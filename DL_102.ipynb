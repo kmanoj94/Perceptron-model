{
  "nbformat": 4,
  "nbformat_minor": 0,
  "metadata": {
    "colab": {
      "name": "DL#102.ipynb",
      "provenance": [],
      "authorship_tag": "ABX9TyNgqy1Wyemf0nk5V5cdVNN/",
      "include_colab_link": true
    },
    "kernelspec": {
      "name": "python3",
      "display_name": "Python 3"
    },
    "language_info": {
      "name": "python"
    }
  },
  "cells": [
    {
      "cell_type": "markdown",
      "metadata": {
        "id": "view-in-github",
        "colab_type": "text"
      },
      "source": [
        "<a href=\"https://colab.research.google.com/github/kmanoj94/Perceptron-model/blob/main/DL_102.ipynb\" target=\"_parent\"><img src=\"https://colab.research.google.com/assets/colab-badge.svg\" alt=\"Open In Colab\"/></a>"
      ]
    },
    {
      "cell_type": "markdown",
      "metadata": {
        "id": "JNR94N9RgTB8"
      },
      "source": [
        "# load dataset"
      ]
    },
    {
      "cell_type": "code",
      "metadata": {
        "id": "u7ft-1hS62mM"
      },
      "source": [
        "import sklearn.datasets\n",
        "import numpy as np "
      ],
      "execution_count": null,
      "outputs": []
    },
    {
      "cell_type": "code",
      "metadata": {
        "id": "M1vbybrp_Ng0"
      },
      "source": [
        "breast_cancer = sklearn.datasets.load_breast_cancer()"
      ],
      "execution_count": null,
      "outputs": []
    },
    {
      "cell_type": "code",
      "metadata": {
        "id": "Xz7U3sj5Kh22"
      },
      "source": [
        "x=breast_cancer.data\n",
        "y=breast_cancer.target"
      ],
      "execution_count": null,
      "outputs": []
    },
    {
      "cell_type": "code",
      "metadata": {
        "colab": {
          "base_uri": "https://localhost:8080/"
        },
        "id": "8cxTTQU_Lu-7",
        "outputId": "fcdfe67c-13dd-4cdf-a102-bc6b164b4ca8"
      },
      "source": [
        "x.shape"
      ],
      "execution_count": null,
      "outputs": [
        {
          "output_type": "execute_result",
          "data": {
            "text/plain": [
              "(569, 30)"
            ]
          },
          "metadata": {
            "tags": []
          },
          "execution_count": 4
        }
      ]
    },
    {
      "cell_type": "code",
      "metadata": {
        "colab": {
          "base_uri": "https://localhost:8080/"
        },
        "id": "orKgZUunMGyx",
        "outputId": "c499a998-2712-41cd-f475-4f0bb6212ac0"
      },
      "source": [
        "y.shape"
      ],
      "execution_count": null,
      "outputs": [
        {
          "output_type": "execute_result",
          "data": {
            "text/plain": [
              "(569,)"
            ]
          },
          "metadata": {
            "tags": []
          },
          "execution_count": 5
        }
      ]
    },
    {
      "cell_type": "code",
      "metadata": {
        "id": "ieRyGuDRMSKf"
      },
      "source": [
        "import pandas as pd"
      ],
      "execution_count": null,
      "outputs": []
    },
    {
      "cell_type": "code",
      "metadata": {
        "id": "gkG4QdmzZDHm"
      },
      "source": [
        "data = pd.DataFrame(breast_cancer.data, columns=breast_cancer.feature_names)"
      ],
      "execution_count": null,
      "outputs": []
    },
    {
      "cell_type": "code",
      "metadata": {
        "colab": {
          "base_uri": "https://localhost:8080/"
        },
        "id": "8GJ_-G03Zbsb",
        "outputId": "3392303b-e972-454a-caa9-42de1d27ad24"
      },
      "source": [
        "data.head"
      ],
      "execution_count": null,
      "outputs": [
        {
          "output_type": "execute_result",
          "data": {
            "text/plain": [
              "<bound method NDFrame.head of      mean radius  mean texture  ...  worst symmetry  worst fractal dimension\n",
              "0          17.99         10.38  ...          0.4601                  0.11890\n",
              "1          20.57         17.77  ...          0.2750                  0.08902\n",
              "2          19.69         21.25  ...          0.3613                  0.08758\n",
              "3          11.42         20.38  ...          0.6638                  0.17300\n",
              "4          20.29         14.34  ...          0.2364                  0.07678\n",
              "..           ...           ...  ...             ...                      ...\n",
              "564        21.56         22.39  ...          0.2060                  0.07115\n",
              "565        20.13         28.25  ...          0.2572                  0.06637\n",
              "566        16.60         28.08  ...          0.2218                  0.07820\n",
              "567        20.60         29.33  ...          0.4087                  0.12400\n",
              "568         7.76         24.54  ...          0.2871                  0.07039\n",
              "\n",
              "[569 rows x 30 columns]>"
            ]
          },
          "metadata": {
            "tags": []
          },
          "execution_count": 8
        }
      ]
    },
    {
      "cell_type": "code",
      "metadata": {
        "id": "5B6y4TvLZh50"
      },
      "source": [
        "data['class']=breast_cancer.target"
      ],
      "execution_count": null,
      "outputs": []
    },
    {
      "cell_type": "code",
      "metadata": {
        "colab": {
          "base_uri": "https://localhost:8080/"
        },
        "id": "tY-xoLqvZxV-",
        "outputId": "062a32c7-dbba-43dd-d235-9c3733a89a61"
      },
      "source": [
        "data.head()"
      ],
      "execution_count": null,
      "outputs": [
        {
          "output_type": "execute_result",
          "data": {
            "text/html": [
              "<div>\n",
              "<style scoped>\n",
              "    .dataframe tbody tr th:only-of-type {\n",
              "        vertical-align: middle;\n",
              "    }\n",
              "\n",
              "    .dataframe tbody tr th {\n",
              "        vertical-align: top;\n",
              "    }\n",
              "\n",
              "    .dataframe thead th {\n",
              "        text-align: right;\n",
              "    }\n",
              "</style>\n",
              "<table border=\"1\" class=\"dataframe\">\n",
              "  <thead>\n",
              "    <tr style=\"text-align: right;\">\n",
              "      <th></th>\n",
              "      <th>mean radius</th>\n",
              "      <th>mean texture</th>\n",
              "      <th>mean perimeter</th>\n",
              "      <th>mean area</th>\n",
              "      <th>mean smoothness</th>\n",
              "      <th>mean compactness</th>\n",
              "      <th>mean concavity</th>\n",
              "      <th>mean concave points</th>\n",
              "      <th>mean symmetry</th>\n",
              "      <th>mean fractal dimension</th>\n",
              "      <th>radius error</th>\n",
              "      <th>texture error</th>\n",
              "      <th>perimeter error</th>\n",
              "      <th>area error</th>\n",
              "      <th>smoothness error</th>\n",
              "      <th>compactness error</th>\n",
              "      <th>concavity error</th>\n",
              "      <th>concave points error</th>\n",
              "      <th>symmetry error</th>\n",
              "      <th>fractal dimension error</th>\n",
              "      <th>worst radius</th>\n",
              "      <th>worst texture</th>\n",
              "      <th>worst perimeter</th>\n",
              "      <th>worst area</th>\n",
              "      <th>worst smoothness</th>\n",
              "      <th>worst compactness</th>\n",
              "      <th>worst concavity</th>\n",
              "      <th>worst concave points</th>\n",
              "      <th>worst symmetry</th>\n",
              "      <th>worst fractal dimension</th>\n",
              "      <th>class</th>\n",
              "    </tr>\n",
              "  </thead>\n",
              "  <tbody>\n",
              "    <tr>\n",
              "      <th>0</th>\n",
              "      <td>17.99</td>\n",
              "      <td>10.38</td>\n",
              "      <td>122.80</td>\n",
              "      <td>1001.0</td>\n",
              "      <td>0.11840</td>\n",
              "      <td>0.27760</td>\n",
              "      <td>0.3001</td>\n",
              "      <td>0.14710</td>\n",
              "      <td>0.2419</td>\n",
              "      <td>0.07871</td>\n",
              "      <td>1.0950</td>\n",
              "      <td>0.9053</td>\n",
              "      <td>8.589</td>\n",
              "      <td>153.40</td>\n",
              "      <td>0.006399</td>\n",
              "      <td>0.04904</td>\n",
              "      <td>0.05373</td>\n",
              "      <td>0.01587</td>\n",
              "      <td>0.03003</td>\n",
              "      <td>0.006193</td>\n",
              "      <td>25.38</td>\n",
              "      <td>17.33</td>\n",
              "      <td>184.60</td>\n",
              "      <td>2019.0</td>\n",
              "      <td>0.1622</td>\n",
              "      <td>0.6656</td>\n",
              "      <td>0.7119</td>\n",
              "      <td>0.2654</td>\n",
              "      <td>0.4601</td>\n",
              "      <td>0.11890</td>\n",
              "      <td>0</td>\n",
              "    </tr>\n",
              "    <tr>\n",
              "      <th>1</th>\n",
              "      <td>20.57</td>\n",
              "      <td>17.77</td>\n",
              "      <td>132.90</td>\n",
              "      <td>1326.0</td>\n",
              "      <td>0.08474</td>\n",
              "      <td>0.07864</td>\n",
              "      <td>0.0869</td>\n",
              "      <td>0.07017</td>\n",
              "      <td>0.1812</td>\n",
              "      <td>0.05667</td>\n",
              "      <td>0.5435</td>\n",
              "      <td>0.7339</td>\n",
              "      <td>3.398</td>\n",
              "      <td>74.08</td>\n",
              "      <td>0.005225</td>\n",
              "      <td>0.01308</td>\n",
              "      <td>0.01860</td>\n",
              "      <td>0.01340</td>\n",
              "      <td>0.01389</td>\n",
              "      <td>0.003532</td>\n",
              "      <td>24.99</td>\n",
              "      <td>23.41</td>\n",
              "      <td>158.80</td>\n",
              "      <td>1956.0</td>\n",
              "      <td>0.1238</td>\n",
              "      <td>0.1866</td>\n",
              "      <td>0.2416</td>\n",
              "      <td>0.1860</td>\n",
              "      <td>0.2750</td>\n",
              "      <td>0.08902</td>\n",
              "      <td>0</td>\n",
              "    </tr>\n",
              "    <tr>\n",
              "      <th>2</th>\n",
              "      <td>19.69</td>\n",
              "      <td>21.25</td>\n",
              "      <td>130.00</td>\n",
              "      <td>1203.0</td>\n",
              "      <td>0.10960</td>\n",
              "      <td>0.15990</td>\n",
              "      <td>0.1974</td>\n",
              "      <td>0.12790</td>\n",
              "      <td>0.2069</td>\n",
              "      <td>0.05999</td>\n",
              "      <td>0.7456</td>\n",
              "      <td>0.7869</td>\n",
              "      <td>4.585</td>\n",
              "      <td>94.03</td>\n",
              "      <td>0.006150</td>\n",
              "      <td>0.04006</td>\n",
              "      <td>0.03832</td>\n",
              "      <td>0.02058</td>\n",
              "      <td>0.02250</td>\n",
              "      <td>0.004571</td>\n",
              "      <td>23.57</td>\n",
              "      <td>25.53</td>\n",
              "      <td>152.50</td>\n",
              "      <td>1709.0</td>\n",
              "      <td>0.1444</td>\n",
              "      <td>0.4245</td>\n",
              "      <td>0.4504</td>\n",
              "      <td>0.2430</td>\n",
              "      <td>0.3613</td>\n",
              "      <td>0.08758</td>\n",
              "      <td>0</td>\n",
              "    </tr>\n",
              "    <tr>\n",
              "      <th>3</th>\n",
              "      <td>11.42</td>\n",
              "      <td>20.38</td>\n",
              "      <td>77.58</td>\n",
              "      <td>386.1</td>\n",
              "      <td>0.14250</td>\n",
              "      <td>0.28390</td>\n",
              "      <td>0.2414</td>\n",
              "      <td>0.10520</td>\n",
              "      <td>0.2597</td>\n",
              "      <td>0.09744</td>\n",
              "      <td>0.4956</td>\n",
              "      <td>1.1560</td>\n",
              "      <td>3.445</td>\n",
              "      <td>27.23</td>\n",
              "      <td>0.009110</td>\n",
              "      <td>0.07458</td>\n",
              "      <td>0.05661</td>\n",
              "      <td>0.01867</td>\n",
              "      <td>0.05963</td>\n",
              "      <td>0.009208</td>\n",
              "      <td>14.91</td>\n",
              "      <td>26.50</td>\n",
              "      <td>98.87</td>\n",
              "      <td>567.7</td>\n",
              "      <td>0.2098</td>\n",
              "      <td>0.8663</td>\n",
              "      <td>0.6869</td>\n",
              "      <td>0.2575</td>\n",
              "      <td>0.6638</td>\n",
              "      <td>0.17300</td>\n",
              "      <td>0</td>\n",
              "    </tr>\n",
              "    <tr>\n",
              "      <th>4</th>\n",
              "      <td>20.29</td>\n",
              "      <td>14.34</td>\n",
              "      <td>135.10</td>\n",
              "      <td>1297.0</td>\n",
              "      <td>0.10030</td>\n",
              "      <td>0.13280</td>\n",
              "      <td>0.1980</td>\n",
              "      <td>0.10430</td>\n",
              "      <td>0.1809</td>\n",
              "      <td>0.05883</td>\n",
              "      <td>0.7572</td>\n",
              "      <td>0.7813</td>\n",
              "      <td>5.438</td>\n",
              "      <td>94.44</td>\n",
              "      <td>0.011490</td>\n",
              "      <td>0.02461</td>\n",
              "      <td>0.05688</td>\n",
              "      <td>0.01885</td>\n",
              "      <td>0.01756</td>\n",
              "      <td>0.005115</td>\n",
              "      <td>22.54</td>\n",
              "      <td>16.67</td>\n",
              "      <td>152.20</td>\n",
              "      <td>1575.0</td>\n",
              "      <td>0.1374</td>\n",
              "      <td>0.2050</td>\n",
              "      <td>0.4000</td>\n",
              "      <td>0.1625</td>\n",
              "      <td>0.2364</td>\n",
              "      <td>0.07678</td>\n",
              "      <td>0</td>\n",
              "    </tr>\n",
              "  </tbody>\n",
              "</table>\n",
              "</div>"
            ],
            "text/plain": [
              "   mean radius  mean texture  ...  worst fractal dimension  class\n",
              "0        17.99         10.38  ...                  0.11890      0\n",
              "1        20.57         17.77  ...                  0.08902      0\n",
              "2        19.69         21.25  ...                  0.08758      0\n",
              "3        11.42         20.38  ...                  0.17300      0\n",
              "4        20.29         14.34  ...                  0.07678      0\n",
              "\n",
              "[5 rows x 31 columns]"
            ]
          },
          "metadata": {
            "tags": []
          },
          "execution_count": 10
        }
      ]
    },
    {
      "cell_type": "code",
      "metadata": {
        "colab": {
          "base_uri": "https://localhost:8080/"
        },
        "id": "MKoU9K-mZzVz",
        "outputId": "63f91e8c-e9e7-4694-f21e-c15d77c557d2"
      },
      "source": [
        "data.describe()"
      ],
      "execution_count": null,
      "outputs": [
        {
          "output_type": "execute_result",
          "data": {
            "text/html": [
              "<div>\n",
              "<style scoped>\n",
              "    .dataframe tbody tr th:only-of-type {\n",
              "        vertical-align: middle;\n",
              "    }\n",
              "\n",
              "    .dataframe tbody tr th {\n",
              "        vertical-align: top;\n",
              "    }\n",
              "\n",
              "    .dataframe thead th {\n",
              "        text-align: right;\n",
              "    }\n",
              "</style>\n",
              "<table border=\"1\" class=\"dataframe\">\n",
              "  <thead>\n",
              "    <tr style=\"text-align: right;\">\n",
              "      <th></th>\n",
              "      <th>mean radius</th>\n",
              "      <th>mean texture</th>\n",
              "      <th>mean perimeter</th>\n",
              "      <th>mean area</th>\n",
              "      <th>mean smoothness</th>\n",
              "      <th>mean compactness</th>\n",
              "      <th>mean concavity</th>\n",
              "      <th>mean concave points</th>\n",
              "      <th>mean symmetry</th>\n",
              "      <th>mean fractal dimension</th>\n",
              "      <th>radius error</th>\n",
              "      <th>texture error</th>\n",
              "      <th>perimeter error</th>\n",
              "      <th>area error</th>\n",
              "      <th>smoothness error</th>\n",
              "      <th>compactness error</th>\n",
              "      <th>concavity error</th>\n",
              "      <th>concave points error</th>\n",
              "      <th>symmetry error</th>\n",
              "      <th>fractal dimension error</th>\n",
              "      <th>worst radius</th>\n",
              "      <th>worst texture</th>\n",
              "      <th>worst perimeter</th>\n",
              "      <th>worst area</th>\n",
              "      <th>worst smoothness</th>\n",
              "      <th>worst compactness</th>\n",
              "      <th>worst concavity</th>\n",
              "      <th>worst concave points</th>\n",
              "      <th>worst symmetry</th>\n",
              "      <th>worst fractal dimension</th>\n",
              "      <th>class</th>\n",
              "    </tr>\n",
              "  </thead>\n",
              "  <tbody>\n",
              "    <tr>\n",
              "      <th>count</th>\n",
              "      <td>569.000000</td>\n",
              "      <td>569.000000</td>\n",
              "      <td>569.000000</td>\n",
              "      <td>569.000000</td>\n",
              "      <td>569.000000</td>\n",
              "      <td>569.000000</td>\n",
              "      <td>569.000000</td>\n",
              "      <td>569.000000</td>\n",
              "      <td>569.000000</td>\n",
              "      <td>569.000000</td>\n",
              "      <td>569.000000</td>\n",
              "      <td>569.000000</td>\n",
              "      <td>569.000000</td>\n",
              "      <td>569.000000</td>\n",
              "      <td>569.000000</td>\n",
              "      <td>569.000000</td>\n",
              "      <td>569.000000</td>\n",
              "      <td>569.000000</td>\n",
              "      <td>569.000000</td>\n",
              "      <td>569.000000</td>\n",
              "      <td>569.000000</td>\n",
              "      <td>569.000000</td>\n",
              "      <td>569.000000</td>\n",
              "      <td>569.000000</td>\n",
              "      <td>569.000000</td>\n",
              "      <td>569.000000</td>\n",
              "      <td>569.000000</td>\n",
              "      <td>569.000000</td>\n",
              "      <td>569.000000</td>\n",
              "      <td>569.000000</td>\n",
              "      <td>569.000000</td>\n",
              "    </tr>\n",
              "    <tr>\n",
              "      <th>mean</th>\n",
              "      <td>14.127292</td>\n",
              "      <td>19.289649</td>\n",
              "      <td>91.969033</td>\n",
              "      <td>654.889104</td>\n",
              "      <td>0.096360</td>\n",
              "      <td>0.104341</td>\n",
              "      <td>0.088799</td>\n",
              "      <td>0.048919</td>\n",
              "      <td>0.181162</td>\n",
              "      <td>0.062798</td>\n",
              "      <td>0.405172</td>\n",
              "      <td>1.216853</td>\n",
              "      <td>2.866059</td>\n",
              "      <td>40.337079</td>\n",
              "      <td>0.007041</td>\n",
              "      <td>0.025478</td>\n",
              "      <td>0.031894</td>\n",
              "      <td>0.011796</td>\n",
              "      <td>0.020542</td>\n",
              "      <td>0.003795</td>\n",
              "      <td>16.269190</td>\n",
              "      <td>25.677223</td>\n",
              "      <td>107.261213</td>\n",
              "      <td>880.583128</td>\n",
              "      <td>0.132369</td>\n",
              "      <td>0.254265</td>\n",
              "      <td>0.272188</td>\n",
              "      <td>0.114606</td>\n",
              "      <td>0.290076</td>\n",
              "      <td>0.083946</td>\n",
              "      <td>0.627417</td>\n",
              "    </tr>\n",
              "    <tr>\n",
              "      <th>std</th>\n",
              "      <td>3.524049</td>\n",
              "      <td>4.301036</td>\n",
              "      <td>24.298981</td>\n",
              "      <td>351.914129</td>\n",
              "      <td>0.014064</td>\n",
              "      <td>0.052813</td>\n",
              "      <td>0.079720</td>\n",
              "      <td>0.038803</td>\n",
              "      <td>0.027414</td>\n",
              "      <td>0.007060</td>\n",
              "      <td>0.277313</td>\n",
              "      <td>0.551648</td>\n",
              "      <td>2.021855</td>\n",
              "      <td>45.491006</td>\n",
              "      <td>0.003003</td>\n",
              "      <td>0.017908</td>\n",
              "      <td>0.030186</td>\n",
              "      <td>0.006170</td>\n",
              "      <td>0.008266</td>\n",
              "      <td>0.002646</td>\n",
              "      <td>4.833242</td>\n",
              "      <td>6.146258</td>\n",
              "      <td>33.602542</td>\n",
              "      <td>569.356993</td>\n",
              "      <td>0.022832</td>\n",
              "      <td>0.157336</td>\n",
              "      <td>0.208624</td>\n",
              "      <td>0.065732</td>\n",
              "      <td>0.061867</td>\n",
              "      <td>0.018061</td>\n",
              "      <td>0.483918</td>\n",
              "    </tr>\n",
              "    <tr>\n",
              "      <th>min</th>\n",
              "      <td>6.981000</td>\n",
              "      <td>9.710000</td>\n",
              "      <td>43.790000</td>\n",
              "      <td>143.500000</td>\n",
              "      <td>0.052630</td>\n",
              "      <td>0.019380</td>\n",
              "      <td>0.000000</td>\n",
              "      <td>0.000000</td>\n",
              "      <td>0.106000</td>\n",
              "      <td>0.049960</td>\n",
              "      <td>0.111500</td>\n",
              "      <td>0.360200</td>\n",
              "      <td>0.757000</td>\n",
              "      <td>6.802000</td>\n",
              "      <td>0.001713</td>\n",
              "      <td>0.002252</td>\n",
              "      <td>0.000000</td>\n",
              "      <td>0.000000</td>\n",
              "      <td>0.007882</td>\n",
              "      <td>0.000895</td>\n",
              "      <td>7.930000</td>\n",
              "      <td>12.020000</td>\n",
              "      <td>50.410000</td>\n",
              "      <td>185.200000</td>\n",
              "      <td>0.071170</td>\n",
              "      <td>0.027290</td>\n",
              "      <td>0.000000</td>\n",
              "      <td>0.000000</td>\n",
              "      <td>0.156500</td>\n",
              "      <td>0.055040</td>\n",
              "      <td>0.000000</td>\n",
              "    </tr>\n",
              "    <tr>\n",
              "      <th>25%</th>\n",
              "      <td>11.700000</td>\n",
              "      <td>16.170000</td>\n",
              "      <td>75.170000</td>\n",
              "      <td>420.300000</td>\n",
              "      <td>0.086370</td>\n",
              "      <td>0.064920</td>\n",
              "      <td>0.029560</td>\n",
              "      <td>0.020310</td>\n",
              "      <td>0.161900</td>\n",
              "      <td>0.057700</td>\n",
              "      <td>0.232400</td>\n",
              "      <td>0.833900</td>\n",
              "      <td>1.606000</td>\n",
              "      <td>17.850000</td>\n",
              "      <td>0.005169</td>\n",
              "      <td>0.013080</td>\n",
              "      <td>0.015090</td>\n",
              "      <td>0.007638</td>\n",
              "      <td>0.015160</td>\n",
              "      <td>0.002248</td>\n",
              "      <td>13.010000</td>\n",
              "      <td>21.080000</td>\n",
              "      <td>84.110000</td>\n",
              "      <td>515.300000</td>\n",
              "      <td>0.116600</td>\n",
              "      <td>0.147200</td>\n",
              "      <td>0.114500</td>\n",
              "      <td>0.064930</td>\n",
              "      <td>0.250400</td>\n",
              "      <td>0.071460</td>\n",
              "      <td>0.000000</td>\n",
              "    </tr>\n",
              "    <tr>\n",
              "      <th>50%</th>\n",
              "      <td>13.370000</td>\n",
              "      <td>18.840000</td>\n",
              "      <td>86.240000</td>\n",
              "      <td>551.100000</td>\n",
              "      <td>0.095870</td>\n",
              "      <td>0.092630</td>\n",
              "      <td>0.061540</td>\n",
              "      <td>0.033500</td>\n",
              "      <td>0.179200</td>\n",
              "      <td>0.061540</td>\n",
              "      <td>0.324200</td>\n",
              "      <td>1.108000</td>\n",
              "      <td>2.287000</td>\n",
              "      <td>24.530000</td>\n",
              "      <td>0.006380</td>\n",
              "      <td>0.020450</td>\n",
              "      <td>0.025890</td>\n",
              "      <td>0.010930</td>\n",
              "      <td>0.018730</td>\n",
              "      <td>0.003187</td>\n",
              "      <td>14.970000</td>\n",
              "      <td>25.410000</td>\n",
              "      <td>97.660000</td>\n",
              "      <td>686.500000</td>\n",
              "      <td>0.131300</td>\n",
              "      <td>0.211900</td>\n",
              "      <td>0.226700</td>\n",
              "      <td>0.099930</td>\n",
              "      <td>0.282200</td>\n",
              "      <td>0.080040</td>\n",
              "      <td>1.000000</td>\n",
              "    </tr>\n",
              "    <tr>\n",
              "      <th>75%</th>\n",
              "      <td>15.780000</td>\n",
              "      <td>21.800000</td>\n",
              "      <td>104.100000</td>\n",
              "      <td>782.700000</td>\n",
              "      <td>0.105300</td>\n",
              "      <td>0.130400</td>\n",
              "      <td>0.130700</td>\n",
              "      <td>0.074000</td>\n",
              "      <td>0.195700</td>\n",
              "      <td>0.066120</td>\n",
              "      <td>0.478900</td>\n",
              "      <td>1.474000</td>\n",
              "      <td>3.357000</td>\n",
              "      <td>45.190000</td>\n",
              "      <td>0.008146</td>\n",
              "      <td>0.032450</td>\n",
              "      <td>0.042050</td>\n",
              "      <td>0.014710</td>\n",
              "      <td>0.023480</td>\n",
              "      <td>0.004558</td>\n",
              "      <td>18.790000</td>\n",
              "      <td>29.720000</td>\n",
              "      <td>125.400000</td>\n",
              "      <td>1084.000000</td>\n",
              "      <td>0.146000</td>\n",
              "      <td>0.339100</td>\n",
              "      <td>0.382900</td>\n",
              "      <td>0.161400</td>\n",
              "      <td>0.317900</td>\n",
              "      <td>0.092080</td>\n",
              "      <td>1.000000</td>\n",
              "    </tr>\n",
              "    <tr>\n",
              "      <th>max</th>\n",
              "      <td>28.110000</td>\n",
              "      <td>39.280000</td>\n",
              "      <td>188.500000</td>\n",
              "      <td>2501.000000</td>\n",
              "      <td>0.163400</td>\n",
              "      <td>0.345400</td>\n",
              "      <td>0.426800</td>\n",
              "      <td>0.201200</td>\n",
              "      <td>0.304000</td>\n",
              "      <td>0.097440</td>\n",
              "      <td>2.873000</td>\n",
              "      <td>4.885000</td>\n",
              "      <td>21.980000</td>\n",
              "      <td>542.200000</td>\n",
              "      <td>0.031130</td>\n",
              "      <td>0.135400</td>\n",
              "      <td>0.396000</td>\n",
              "      <td>0.052790</td>\n",
              "      <td>0.078950</td>\n",
              "      <td>0.029840</td>\n",
              "      <td>36.040000</td>\n",
              "      <td>49.540000</td>\n",
              "      <td>251.200000</td>\n",
              "      <td>4254.000000</td>\n",
              "      <td>0.222600</td>\n",
              "      <td>1.058000</td>\n",
              "      <td>1.252000</td>\n",
              "      <td>0.291000</td>\n",
              "      <td>0.663800</td>\n",
              "      <td>0.207500</td>\n",
              "      <td>1.000000</td>\n",
              "    </tr>\n",
              "  </tbody>\n",
              "</table>\n",
              "</div>"
            ],
            "text/plain": [
              "       mean radius  mean texture  ...  worst fractal dimension       class\n",
              "count   569.000000    569.000000  ...               569.000000  569.000000\n",
              "mean     14.127292     19.289649  ...                 0.083946    0.627417\n",
              "std       3.524049      4.301036  ...                 0.018061    0.483918\n",
              "min       6.981000      9.710000  ...                 0.055040    0.000000\n",
              "25%      11.700000     16.170000  ...                 0.071460    0.000000\n",
              "50%      13.370000     18.840000  ...                 0.080040    1.000000\n",
              "75%      15.780000     21.800000  ...                 0.092080    1.000000\n",
              "max      28.110000     39.280000  ...                 0.207500    1.000000\n",
              "\n",
              "[8 rows x 31 columns]"
            ]
          },
          "metadata": {
            "tags": []
          },
          "execution_count": 11
        }
      ]
    },
    {
      "cell_type": "code",
      "metadata": {
        "colab": {
          "base_uri": "https://localhost:8080/"
        },
        "id": "_D1rvpcQaE5s",
        "outputId": "6a05c6e6-a78b-4ab1-e42b-7b965d0627df"
      },
      "source": [
        "print(data['class'].value_counts())"
      ],
      "execution_count": null,
      "outputs": [
        {
          "output_type": "stream",
          "text": [
            "1    357\n",
            "0    212\n",
            "Name: class, dtype: int64\n"
          ],
          "name": "stdout"
        }
      ]
    },
    {
      "cell_type": "code",
      "metadata": {
        "colab": {
          "base_uri": "https://localhost:8080/"
        },
        "id": "zw9IB4ShaY18",
        "outputId": "d6b581cd-d552-4de3-d0ec-825fc1ceb3c0"
      },
      "source": [
        "print(breast_cancer.target_names)"
      ],
      "execution_count": null,
      "outputs": [
        {
          "output_type": "stream",
          "text": [
            "['malignant' 'benign']\n"
          ],
          "name": "stdout"
        }
      ]
    },
    {
      "cell_type": "code",
      "metadata": {
        "colab": {
          "base_uri": "https://localhost:8080/"
        },
        "id": "bjkphIyCfUno",
        "outputId": "66cc9f92-570a-4e3a-b0a6-407660b5d818"
      },
      "source": [
        "data.groupby('class').mean()"
      ],
      "execution_count": null,
      "outputs": [
        {
          "output_type": "execute_result",
          "data": {
            "text/html": [
              "<div>\n",
              "<style scoped>\n",
              "    .dataframe tbody tr th:only-of-type {\n",
              "        vertical-align: middle;\n",
              "    }\n",
              "\n",
              "    .dataframe tbody tr th {\n",
              "        vertical-align: top;\n",
              "    }\n",
              "\n",
              "    .dataframe thead th {\n",
              "        text-align: right;\n",
              "    }\n",
              "</style>\n",
              "<table border=\"1\" class=\"dataframe\">\n",
              "  <thead>\n",
              "    <tr style=\"text-align: right;\">\n",
              "      <th></th>\n",
              "      <th>mean radius</th>\n",
              "      <th>mean texture</th>\n",
              "      <th>mean perimeter</th>\n",
              "      <th>mean area</th>\n",
              "      <th>mean smoothness</th>\n",
              "      <th>mean compactness</th>\n",
              "      <th>mean concavity</th>\n",
              "      <th>mean concave points</th>\n",
              "      <th>mean symmetry</th>\n",
              "      <th>mean fractal dimension</th>\n",
              "      <th>radius error</th>\n",
              "      <th>texture error</th>\n",
              "      <th>perimeter error</th>\n",
              "      <th>area error</th>\n",
              "      <th>smoothness error</th>\n",
              "      <th>compactness error</th>\n",
              "      <th>concavity error</th>\n",
              "      <th>concave points error</th>\n",
              "      <th>symmetry error</th>\n",
              "      <th>fractal dimension error</th>\n",
              "      <th>worst radius</th>\n",
              "      <th>worst texture</th>\n",
              "      <th>worst perimeter</th>\n",
              "      <th>worst area</th>\n",
              "      <th>worst smoothness</th>\n",
              "      <th>worst compactness</th>\n",
              "      <th>worst concavity</th>\n",
              "      <th>worst concave points</th>\n",
              "      <th>worst symmetry</th>\n",
              "      <th>worst fractal dimension</th>\n",
              "    </tr>\n",
              "    <tr>\n",
              "      <th>class</th>\n",
              "      <th></th>\n",
              "      <th></th>\n",
              "      <th></th>\n",
              "      <th></th>\n",
              "      <th></th>\n",
              "      <th></th>\n",
              "      <th></th>\n",
              "      <th></th>\n",
              "      <th></th>\n",
              "      <th></th>\n",
              "      <th></th>\n",
              "      <th></th>\n",
              "      <th></th>\n",
              "      <th></th>\n",
              "      <th></th>\n",
              "      <th></th>\n",
              "      <th></th>\n",
              "      <th></th>\n",
              "      <th></th>\n",
              "      <th></th>\n",
              "      <th></th>\n",
              "      <th></th>\n",
              "      <th></th>\n",
              "      <th></th>\n",
              "      <th></th>\n",
              "      <th></th>\n",
              "      <th></th>\n",
              "      <th></th>\n",
              "      <th></th>\n",
              "      <th></th>\n",
              "    </tr>\n",
              "  </thead>\n",
              "  <tbody>\n",
              "    <tr>\n",
              "      <th>0</th>\n",
              "      <td>17.462830</td>\n",
              "      <td>21.604906</td>\n",
              "      <td>115.365377</td>\n",
              "      <td>978.376415</td>\n",
              "      <td>0.102898</td>\n",
              "      <td>0.145188</td>\n",
              "      <td>0.160775</td>\n",
              "      <td>0.087990</td>\n",
              "      <td>0.192909</td>\n",
              "      <td>0.062680</td>\n",
              "      <td>0.609083</td>\n",
              "      <td>1.210915</td>\n",
              "      <td>4.323929</td>\n",
              "      <td>72.672406</td>\n",
              "      <td>0.006780</td>\n",
              "      <td>0.032281</td>\n",
              "      <td>0.041824</td>\n",
              "      <td>0.015060</td>\n",
              "      <td>0.020472</td>\n",
              "      <td>0.004062</td>\n",
              "      <td>21.134811</td>\n",
              "      <td>29.318208</td>\n",
              "      <td>141.370330</td>\n",
              "      <td>1422.286321</td>\n",
              "      <td>0.144845</td>\n",
              "      <td>0.374824</td>\n",
              "      <td>0.450606</td>\n",
              "      <td>0.182237</td>\n",
              "      <td>0.323468</td>\n",
              "      <td>0.091530</td>\n",
              "    </tr>\n",
              "    <tr>\n",
              "      <th>1</th>\n",
              "      <td>12.146524</td>\n",
              "      <td>17.914762</td>\n",
              "      <td>78.075406</td>\n",
              "      <td>462.790196</td>\n",
              "      <td>0.092478</td>\n",
              "      <td>0.080085</td>\n",
              "      <td>0.046058</td>\n",
              "      <td>0.025717</td>\n",
              "      <td>0.174186</td>\n",
              "      <td>0.062867</td>\n",
              "      <td>0.284082</td>\n",
              "      <td>1.220380</td>\n",
              "      <td>2.000321</td>\n",
              "      <td>21.135148</td>\n",
              "      <td>0.007196</td>\n",
              "      <td>0.021438</td>\n",
              "      <td>0.025997</td>\n",
              "      <td>0.009858</td>\n",
              "      <td>0.020584</td>\n",
              "      <td>0.003636</td>\n",
              "      <td>13.379801</td>\n",
              "      <td>23.515070</td>\n",
              "      <td>87.005938</td>\n",
              "      <td>558.899440</td>\n",
              "      <td>0.124959</td>\n",
              "      <td>0.182673</td>\n",
              "      <td>0.166238</td>\n",
              "      <td>0.074444</td>\n",
              "      <td>0.270246</td>\n",
              "      <td>0.079442</td>\n",
              "    </tr>\n",
              "  </tbody>\n",
              "</table>\n",
              "</div>"
            ],
            "text/plain": [
              "       mean radius  mean texture  ...  worst symmetry  worst fractal dimension\n",
              "class                             ...                                         \n",
              "0        17.462830     21.604906  ...        0.323468                 0.091530\n",
              "1        12.146524     17.914762  ...        0.270246                 0.079442\n",
              "\n",
              "[2 rows x 30 columns]"
            ]
          },
          "metadata": {
            "tags": []
          },
          "execution_count": 14
        }
      ]
    },
    {
      "cell_type": "markdown",
      "metadata": {
        "id": "4_taJ5fmgchJ"
      },
      "source": [
        "# test train split"
      ]
    },
    {
      "cell_type": "code",
      "metadata": {
        "id": "tcNxz-_IggZb"
      },
      "source": [
        "from sklearn.model_selection import train_test_split"
      ],
      "execution_count": null,
      "outputs": []
    },
    {
      "cell_type": "code",
      "metadata": {
        "id": "hruSEUh2LHJY"
      },
      "source": [
        "x= data.drop('class', axis=1)\n",
        "y=data['class']"
      ],
      "execution_count": null,
      "outputs": []
    },
    {
      "cell_type": "code",
      "metadata": {
        "id": "rtffy1NfLYO_"
      },
      "source": [
        "x_train, x_test, y_train, y_test = train_test_split(x,y)"
      ],
      "execution_count": null,
      "outputs": []
    },
    {
      "cell_type": "code",
      "metadata": {
        "colab": {
          "base_uri": "https://localhost:8080/"
        },
        "id": "dtJ6vZiGLvDo",
        "outputId": "e14d0246-ba94-4b29-f6c9-355578185f80"
      },
      "source": [
        "print(x.shape, x_train.shape, x_test.shape)"
      ],
      "execution_count": null,
      "outputs": [
        {
          "output_type": "stream",
          "text": [
            "(569, 30) (426, 30) (143, 30)\n"
          ],
          "name": "stdout"
        }
      ]
    },
    {
      "cell_type": "code",
      "metadata": {
        "id": "Fkk0xmZ8L9mu"
      },
      "source": [
        "x_train, x_test, y_train, y_test = train_test_split(x,y, test_size=0.1)"
      ],
      "execution_count": null,
      "outputs": []
    },
    {
      "cell_type": "code",
      "metadata": {
        "colab": {
          "base_uri": "https://localhost:8080/"
        },
        "id": "ueeUGIktMwue",
        "outputId": "419656cd-dfa9-4583-9357-513f7c754b03"
      },
      "source": [
        "print(x.shape, x_train.shape, x_test.shape, y.shape, y_train.shape, y_test.shape)"
      ],
      "execution_count": null,
      "outputs": [
        {
          "output_type": "stream",
          "text": [
            "(569, 30) (512, 30) (57, 30) (569,) (512,) (57,)\n"
          ],
          "name": "stdout"
        }
      ]
    },
    {
      "cell_type": "code",
      "metadata": {
        "colab": {
          "base_uri": "https://localhost:8080/"
        },
        "id": "TNxyZ4XnM7CA",
        "outputId": "379ccb62-d0fd-4a74-9f45-39d19ecfd8eb"
      },
      "source": [
        "print(y_train.mean(), y_test.mean(),y.mean())"
      ],
      "execution_count": null,
      "outputs": [
        {
          "output_type": "stream",
          "text": [
            "0.626953125 0.631578947368421 0.6274165202108963\n"
          ],
          "name": "stdout"
        }
      ]
    },
    {
      "cell_type": "code",
      "metadata": {
        "id": "_b1DIbAUNkE5"
      },
      "source": [
        "x_train, x_test, y_train, y_test = train_test_split(x,y, test_size=0.1, stratify=y)"
      ],
      "execution_count": null,
      "outputs": []
    },
    {
      "cell_type": "code",
      "metadata": {
        "colab": {
          "base_uri": "https://localhost:8080/"
        },
        "id": "F2dFc2zBOmQx",
        "outputId": "2fb93885-3b6b-4023-f0cb-ab4b9f82ad1c"
      },
      "source": [
        "print(x_train.mean(), x_test.mean(),x.mean())"
      ],
      "execution_count": null,
      "outputs": [
        {
          "output_type": "stream",
          "text": [
            "mean radius                 14.159297\n",
            "mean texture                19.337754\n",
            "mean perimeter              92.223242\n",
            "mean area                  659.324414\n",
            "mean smoothness              0.096390\n",
            "mean compactness             0.105718\n",
            "mean concavity               0.090501\n",
            "mean concave points          0.049290\n",
            "mean symmetry                0.181923\n",
            "mean fractal dimension       0.062952\n",
            "radius error                 0.406624\n",
            "texture error                1.217379\n",
            "perimeter error              2.885091\n",
            "area error                  40.844100\n",
            "smoothness error             0.007098\n",
            "compactness error            0.026111\n",
            "concavity error              0.032682\n",
            "concave points error         0.011869\n",
            "symmetry error               0.020725\n",
            "fractal dimension error      0.003868\n",
            "worst radius                16.328018\n",
            "worst texture               25.728848\n",
            "worst perimeter            107.698691\n",
            "worst area                 889.840039\n",
            "worst smoothness             0.132648\n",
            "worst compactness            0.259197\n",
            "worst concavity              0.278379\n",
            "worst concave points         0.115684\n",
            "worst symmetry               0.291490\n",
            "worst fractal dimension      0.084475\n",
            "dtype: float64 mean radius                 13.839807\n",
            "mean texture                18.857544\n",
            "mean perimeter              89.685614\n",
            "mean area                  615.049123\n",
            "mean smoothness              0.096096\n",
            "mean compactness             0.091970\n",
            "mean concavity               0.073513\n",
            "mean concave points          0.045591\n",
            "mean symmetry                0.174328\n",
            "mean fractal dimension       0.061414\n",
            "radius error                 0.392132\n",
            "texture error                1.212135\n",
            "perimeter error              2.695105\n",
            "area error                  35.782789\n",
            "smoothness error             0.006526\n",
            "compactness error            0.019789\n",
            "concavity error              0.024816\n",
            "concave points error         0.011143\n",
            "symmetry error               0.018901\n",
            "fractal dimension error      0.003140\n",
            "worst radius                15.740772\n",
            "worst texture               25.213509\n",
            "worst perimeter            103.331579\n",
            "worst area                 797.433333\n",
            "worst smoothness             0.129857\n",
            "worst compactness            0.209966\n",
            "worst concavity              0.216586\n",
            "worst concave points         0.104928\n",
            "worst symmetry               0.277368\n",
            "worst fractal dimension      0.079188\n",
            "dtype: float64 mean radius                 14.127292\n",
            "mean texture                19.289649\n",
            "mean perimeter              91.969033\n",
            "mean area                  654.889104\n",
            "mean smoothness              0.096360\n",
            "mean compactness             0.104341\n",
            "mean concavity               0.088799\n",
            "mean concave points          0.048919\n",
            "mean symmetry                0.181162\n",
            "mean fractal dimension       0.062798\n",
            "radius error                 0.405172\n",
            "texture error                1.216853\n",
            "perimeter error              2.866059\n",
            "area error                  40.337079\n",
            "smoothness error             0.007041\n",
            "compactness error            0.025478\n",
            "concavity error              0.031894\n",
            "concave points error         0.011796\n",
            "symmetry error               0.020542\n",
            "fractal dimension error      0.003795\n",
            "worst radius                16.269190\n",
            "worst texture               25.677223\n",
            "worst perimeter            107.261213\n",
            "worst area                 880.583128\n",
            "worst smoothness             0.132369\n",
            "worst compactness            0.254265\n",
            "worst concavity              0.272188\n",
            "worst concave points         0.114606\n",
            "worst symmetry               0.290076\n",
            "worst fractal dimension      0.083946\n",
            "dtype: float64\n"
          ],
          "name": "stdout"
        }
      ]
    },
    {
      "cell_type": "code",
      "metadata": {
        "id": "Ou3KI3ICOtf8"
      },
      "source": [
        "x_train, x_test, y_train, y_test = train_test_split(x,y, test_size=0.1, stratify=y,random_state=1)"
      ],
      "execution_count": null,
      "outputs": []
    },
    {
      "cell_type": "code",
      "metadata": {
        "colab": {
          "base_uri": "https://localhost:8080/"
        },
        "id": "VgbDsOfPO661",
        "outputId": "9d30704e-2286-44b5-94c5-624da1aab1a7"
      },
      "source": [
        "print(x_train.mean(), x_test.mean(),x.mean())"
      ],
      "execution_count": null,
      "outputs": [
        {
          "output_type": "stream",
          "text": [
            "mean radius                 14.058656\n",
            "mean texture                19.309668\n",
            "mean perimeter              91.530488\n",
            "mean area                  648.097266\n",
            "mean smoothness              0.096568\n",
            "mean compactness             0.105144\n",
            "mean concavity               0.089342\n",
            "mean concave points          0.048892\n",
            "mean symmetry                0.181961\n",
            "mean fractal dimension       0.062979\n",
            "radius error                 0.403659\n",
            "texture error                1.206856\n",
            "perimeter error              2.861173\n",
            "area error                  39.935506\n",
            "smoothness error             0.007067\n",
            "compactness error            0.025681\n",
            "concavity error              0.032328\n",
            "concave points error         0.011963\n",
            "symmetry error               0.020584\n",
            "fractal dimension error      0.003815\n",
            "worst radius                16.194275\n",
            "worst texture               25.644902\n",
            "worst perimeter            106.757715\n",
            "worst area                 871.647852\n",
            "worst smoothness             0.132592\n",
            "worst compactness            0.257415\n",
            "worst concavity              0.275623\n",
            "worst concave points         0.115454\n",
            "worst symmetry               0.291562\n",
            "worst fractal dimension      0.084402\n",
            "dtype: float64 mean radius                 14.743807\n",
            "mean texture                19.109825\n",
            "mean perimeter              95.908246\n",
            "mean area                  715.896491\n",
            "mean smoothness              0.094496\n",
            "mean compactness             0.097130\n",
            "mean concavity               0.083923\n",
            "mean concave points          0.049159\n",
            "mean symmetry                0.173981\n",
            "mean fractal dimension       0.061169\n",
            "radius error                 0.418767\n",
            "texture error                1.306656\n",
            "perimeter error              2.909946\n",
            "area error                  43.944193\n",
            "smoothness error             0.006809\n",
            "compactness error            0.023659\n",
            "concavity error              0.027989\n",
            "concave points error         0.010293\n",
            "symmetry error               0.020169\n",
            "fractal dimension error      0.003618\n",
            "worst radius                16.942105\n",
            "worst texture               25.967544\n",
            "worst perimeter            111.783860\n",
            "worst area                 960.843860\n",
            "worst smoothness             0.130357\n",
            "worst compactness            0.225973\n",
            "worst concavity              0.241340\n",
            "worst concave points         0.106994\n",
            "worst symmetry               0.276719\n",
            "worst fractal dimension      0.079852\n",
            "dtype: float64 mean radius                 14.127292\n",
            "mean texture                19.289649\n",
            "mean perimeter              91.969033\n",
            "mean area                  654.889104\n",
            "mean smoothness              0.096360\n",
            "mean compactness             0.104341\n",
            "mean concavity               0.088799\n",
            "mean concave points          0.048919\n",
            "mean symmetry                0.181162\n",
            "mean fractal dimension       0.062798\n",
            "radius error                 0.405172\n",
            "texture error                1.216853\n",
            "perimeter error              2.866059\n",
            "area error                  40.337079\n",
            "smoothness error             0.007041\n",
            "compactness error            0.025478\n",
            "concavity error              0.031894\n",
            "concave points error         0.011796\n",
            "symmetry error               0.020542\n",
            "fractal dimension error      0.003795\n",
            "worst radius                16.269190\n",
            "worst texture               25.677223\n",
            "worst perimeter            107.261213\n",
            "worst area                 880.583128\n",
            "worst smoothness             0.132369\n",
            "worst compactness            0.254265\n",
            "worst concavity              0.272188\n",
            "worst concave points         0.114606\n",
            "worst symmetry               0.290076\n",
            "worst fractal dimension      0.083946\n",
            "dtype: float64\n"
          ],
          "name": "stdout"
        }
      ]
    },
    {
      "cell_type": "markdown",
      "metadata": {
        "id": "38IFFTP8PTGW"
      },
      "source": [
        "# Binarisation of input"
      ]
    },
    {
      "cell_type": "code",
      "metadata": {
        "id": "0BvE-pQ_Pawq"
      },
      "source": [
        "import matplotlib.pyplot as plt\n"
      ],
      "execution_count": null,
      "outputs": []
    },
    {
      "cell_type": "code",
      "metadata": {
        "colab": {
          "base_uri": "https://localhost:8080/"
        },
        "id": "qzuBSEhlPs_7",
        "outputId": "02f6d0e1-005a-4837-cc1c-3fdebceb7a55"
      },
      "source": [
        "plt.plot(x_train.T,'*')\n",
        "plt.xticks(rotation='vertical')\n",
        "plt.show()"
      ],
      "execution_count": null,
      "outputs": [
        {
          "output_type": "display_data",
          "data": {
            "image/png": "[encoded data removed]",
            "text/plain": [
              "<Figure size 432x288 with 1 Axes>"
            ]
          },
          "metadata": {
            "tags": [],
            "needs_background": "light"
          }
        }
      ]
    },
    {
      "cell_type": "code",
      "metadata": {
        "id": "GVkXkax1P7L-"
      },
      "source": [
        "x_binarised_3_train = x_train['mean area'].map(lambda x: 0 if x<1000 else 1)"
      ],
      "execution_count": null,
      "outputs": []
    },
    {
      "cell_type": "code",
      "metadata": {
        "colab": {
          "base_uri": "https://localhost:8080/"
        },
        "id": "wbRgU48nRiBB",
        "outputId": "3c1798ba-c21b-4ce8-a665-1730099dd599"
      },
      "source": [
        "plt.plot(x_binarised_3_train, '*')"
      ],
      "execution_count": null,
      "outputs": [
        {
          "output_type": "execute_result",
          "data": {
            "text/plain": [
              "[<matplotlib.lines.Line2D at 0x7f660e6415d0>]"
            ]
          },
          "metadata": {
            "tags": []
          },
          "execution_count": 29
        },
        {
          "output_type": "display_data",
          "data": {
            "image/png": "[encoded data removed]",
            "text/plain": [
              "<Figure size 432x288 with 1 Axes>"
            ]
          },
          "metadata": {
            "tags": [],
            "needs_background": "light"
          }
        }
      ]
    },
    {
      "cell_type": "code",
      "metadata": {
        "id": "sNOMUWXyR17A"
      },
      "source": [
        "x_binarised_train= x_train.apply(pd.cut, bins=2, labels=[1, 0])"
      ],
      "execution_count": null,
      "outputs": []
    },
    {
      "cell_type": "code",
      "metadata": {
        "colab": {
          "base_uri": "https://localhost:8080/"
        },
        "id": "uLLMw-L-Sl9P",
        "outputId": "243b49c2-43c8-41bf-ad9c-498c40cba8f4"
      },
      "source": [
        "plt.plot(x_binarised_train.T,'*')\n",
        "plt.xticks(rotation='vertical')\n",
        "plt.show()"
      ],
      "execution_count": null,
      "outputs": [
        {
          "output_type": "display_data",
          "data": {
            "image/png": "[encoded data removed]",
            "text/plain": [
              "<Figure size 432x288 with 1 Axes>"
            ]
          },
          "metadata": {
            "tags": [],
            "needs_background": "light"
          }
        }
      ]
    },
    {
      "cell_type": "code",
      "metadata": {
        "id": "aV85BMTlSp7w"
      },
      "source": [
        "x_binarised_test= x_test.apply(pd.cut, bins=2, labels=[1,0])"
      ],
      "execution_count": null,
      "outputs": []
    },
    {
      "cell_type": "code",
      "metadata": {
        "colab": {
          "base_uri": "https://localhost:8080/"
        },
        "id": "WXQqYALLTPkg",
        "outputId": "3fba0f63-de18-4a66-b96b-5b23c892aed3"
      },
      "source": [
        "plt.plot(x_binarised_test.T,'*')\n",
        "plt.xticks(rotation='vertical')\n",
        "plt.show()"
      ],
      "execution_count": null,
      "outputs": [
        {
          "output_type": "display_data",
          "data": {
            "image/png": "[encoded data removed]",
            "text/plain": [
              "<Figure size 432x288 with 1 Axes>"
            ]
          },
          "metadata": {
            "tags": [],
            "needs_background": "light"
          }
        }
      ]
    },
    {
      "cell_type": "code",
      "metadata": {
        "id": "BYCaR8QnTT1g"
      },
      "source": [
        "x_binarised_train=x_binarised_train.values\n",
        "x_binarised_test=x_binarised_test.values"
      ],
      "execution_count": null,
      "outputs": []
    },
    {
      "cell_type": "code",
      "metadata": {
        "colab": {
          "base_uri": "https://localhost:8080/"
        },
        "id": "XkAd2Im4Tp8q",
        "outputId": "615367ce-88d2-4385-9c5c-fe35d8683062"
      },
      "source": [
        "type(x_binarised_test)"
      ],
      "execution_count": null,
      "outputs": [
        {
          "output_type": "execute_result",
          "data": {
            "text/plain": [
              "numpy.ndarray"
            ]
          },
          "metadata": {
            "tags": []
          },
          "execution_count": 35
        }
      ]
    },
    {
      "cell_type": "markdown",
      "metadata": {
        "id": "5UbaG_crT6Cd"
      },
      "source": [
        "# MP Neuron model"
      ]
    },
    {
      "cell_type": "code",
      "metadata": {
        "id": "LfAh6vEtqsvD"
      },
      "source": [
        "from random import randint"
      ],
      "execution_count": null,
      "outputs": []
    },
    {
      "cell_type": "code",
      "metadata": {
        "colab": {
          "base_uri": "https://localhost:8080/"
        },
        "id": "DDi1LicFT-8A",
        "outputId": "3df6657c-a5ce-441f-f026-7a83195dc060"
      },
      "source": [
        "b = 3\n",
        "\n",
        "i=randint(0, x_binarised_train.shape[0])\n",
        "print('for row', i)\n",
        "\n",
        "if(np.sum(x_binarised_train[i]) >= b):\n",
        "  print(\"MP neuron inference is malignant\")\n",
        "else:\n",
        "  print(\"MP neuron inference is benign\")\n",
        "\n",
        "if(y_train[i]==1):\n",
        "  print(\"ground truth is malign\")\n",
        "else:\n",
        "  print(\"ground truth is benign\")\n"
      ],
      "execution_count": null,
      "outputs": [
        {
          "output_type": "stream",
          "text": [
            "for row 503\n",
            "MP neuron inference is malignant\n",
            "ground truth is benign\n"
          ],
          "name": "stdout"
        }
      ]
    },
    {
      "cell_type": "code",
      "metadata": {
        "colab": {
          "base_uri": "https://localhost:8080/"
        },
        "id": "gmswsKZZqDw_",
        "outputId": "b761eff3-0db2-434b-c761-71b5b8e85a4d"
      },
      "source": [
        "b=3\n",
        "y_pred_train=[]\n",
        "accurate_row=0\n",
        "\n",
        "for x,y in zip(x_binarised_train,y_train):\n",
        "  y_pred = (np.sum(x)>=b)\n",
        "  y_pred_train.append(y_pred)\n",
        "  accurate_row+=(y==y_pred)\n",
        "\n",
        "print(accurate_row, accurate_row/x_binarised_train.shape[0])"
      ],
      "execution_count": null,
      "outputs": [
        {
          "output_type": "stream",
          "text": [
            "321 0.626953125\n"
          ],
          "name": "stdout"
        }
      ]
    },
    {
      "cell_type": "code",
      "metadata": {
        "colab": {
          "base_uri": "https://localhost:8080/"
        },
        "id": "Fgi2E-0Itnle",
        "outputId": "523a45aa-e023-4e72-d8af-180916f10dac"
      },
      "source": [
        "for b in range (x_binarised_train.shape[1]+ 1):\n",
        "  y_pred_train=[]\n",
        "  accurate_row=0\n",
        "\n",
        "  for x,y in zip(x_binarised_train,y_train):\n",
        "    y_pred = (np.sum(x)>=b)\n",
        "    y_pred_train.append(y_pred)\n",
        "    accurate_row+=(y==y_pred)\n",
        "\n",
        "  print(b, accurate_row/x_binarised_train.shape[0])\n"
      ],
      "execution_count": null,
      "outputs": [
        {
          "output_type": "stream",
          "text": [
            "0 0.626953125\n",
            "1 0.626953125\n",
            "2 0.626953125\n",
            "3 0.626953125\n",
            "4 0.626953125\n",
            "5 0.626953125\n",
            "6 0.626953125\n",
            "7 0.626953125\n",
            "8 0.626953125\n",
            "9 0.626953125\n",
            "10 0.626953125\n",
            "11 0.626953125\n",
            "12 0.626953125\n",
            "13 0.626953125\n",
            "14 0.630859375\n",
            "15 0.6328125\n",
            "16 0.642578125\n",
            "17 0.6484375\n",
            "18 0.65625\n",
            "19 0.6640625\n",
            "20 0.671875\n",
            "21 0.6875\n",
            "22 0.701171875\n",
            "23 0.724609375\n",
            "24 0.755859375\n",
            "25 0.78515625\n",
            "26 0.818359375\n",
            "27 0.845703125\n",
            "28 0.849609375\n",
            "29 0.814453125\n",
            "30 0.759765625\n"
          ],
          "name": "stdout"
        }
      ]
    },
    {
      "cell_type": "code",
      "metadata": {
        "id": "eLPE0SsCzl_3"
      },
      "source": [
        "from sklearn.metrics import accuracy_score"
      ],
      "execution_count": null,
      "outputs": []
    },
    {
      "cell_type": "code",
      "metadata": {
        "colab": {
          "base_uri": "https://localhost:8080/"
        },
        "id": "zmaoNZJqeNEZ",
        "outputId": "ee29a61f-00ad-458a-ab4c-3f466f5c0bae"
      },
      "source": [
        "b= 28\n",
        "y_pred_test=[]\n",
        "accurate_row=0\n",
        "\n",
        "for x in x_binarised_test:\n",
        "  y_pred = (np.sum(x)>=b)\n",
        "  y_pred_test.append(y_pred)\n",
        "accuracy = accuracy_score(y_pred_test, y_test)\n",
        "print(b, accuracy)"
      ],
      "execution_count": null,
      "outputs": [
        {
          "output_type": "stream",
          "text": [
            "28 0.7894736842105263\n"
          ],
          "name": "stdout"
        }
      ]
    },
    {
      "cell_type": "markdown",
      "metadata": {
        "id": "P9nw87JtfoRb"
      },
      "source": [
        "# MP Neuron class"
      ]
    },
    {
      "cell_type": "code",
      "metadata": {
        "id": "TjKJjQ3ce4-Q"
      },
      "source": [
        "class MPNeuron:\n",
        "\n",
        "  def __init__(self):\n",
        "    self.b=None\n",
        "  \n",
        "  def model(self, x):\n",
        "    return(sum(x)>=self.b)\n",
        "  \n",
        "  def predict(self, X):\n",
        "    Y=[]\n",
        "    for x in X:\n",
        "      result = self.model(x)\n",
        "      Y.append(result)\n",
        "    return np.array(Y)\n",
        "\n",
        "  def fit(self, X, Y):\n",
        "    accuracy = {}\n",
        "\n",
        "    for b in range(X.shape[1] + 1):\n",
        "      self.b = b\n",
        "      Y_pred = self.predict(X)\n",
        "      accuracy[b] = accuracy_score(Y_pred, Y)\n",
        "\n",
        "    best_b = max(accuracy, key = accuracy.get)\n",
        "    self.b = best_b\n",
        "\n",
        "    print(\"optimal value od b is :\", best_b)\n",
        "    print(\"highest accuray is :\", accuracy[best_b])\n",
        "\n"
      ],
      "execution_count": null,
      "outputs": []
    },
    {
      "cell_type": "code",
      "metadata": {
        "colab": {
          "base_uri": "https://localhost:8080/"
        },
        "id": "rXpSBQ00nS_s",
        "outputId": "5f8f3dca-f9d4-4e81-ec68-deaa43e3773a"
      },
      "source": [
        "mp_neuron = MPNeuron()\n",
        "mp_neuron.fit(x_binarised_train, y_train)"
      ],
      "execution_count": null,
      "outputs": [
        {
          "output_type": "stream",
          "text": [
            "optimal value od b is : 28\n",
            "highest accuray is : 0.849609375\n"
          ],
          "name": "stdout"
        }
      ]
    },
    {
      "cell_type": "code",
      "metadata": {
        "id": "iJednwP4nt4S"
      },
      "source": [
        "y_test_pred = mp_neuron.predict(x_binarised_test)\n",
        "accuracy_test = accuracy_score(y_test_pred, y_test)"
      ],
      "execution_count": null,
      "outputs": []
    },
    {
      "cell_type": "code",
      "metadata": {
        "colab": {
          "base_uri": "https://localhost:8080/"
        },
        "id": "05R-3tYGoXjF",
        "outputId": "3eca9107-c737-4718-fb23-fe153c11c371"
      },
      "source": [
        "print(accuracy_test)"
      ],
      "execution_count": null,
      "outputs": [
        {
          "output_type": "stream",
          "text": [
            "0.7894736842105263\n"
          ],
          "name": "stdout"
        }
      ]
    },
    {
      "cell_type": "markdown",
      "metadata": {
        "id": "PvVXMFN1qf_k"
      },
      "source": [
        "# Perceptron class"
      ]
    },
    {
      "cell_type": "code",
      "metadata": {
        "id": "fEysFbj8yTju"
      },
      "source": [
        "x_train = x_train.values\n",
        "x_test = x_test.values"
      ],
      "execution_count": null,
      "outputs": []
    },
    {
      "cell_type": "markdown",
      "metadata": {
        "id": "QI04WQ3qqy8w"
      },
      "source": [
        "$y=1,\\mbox{if} \\sum_i w_ix_i>=b$\n",
        "\n",
        "$y=0, \\mbox{otherwise}$"
      ]
    },
    {
      "cell_type": "code",
      "metadata": {
        "id": "8yCZ_88-ocPA"
      },
      "source": [
        "class Perceptron:\n",
        "\n",
        "  def __init__(self):\n",
        "    self.w = None\n",
        "    self.b = None\n",
        "\n",
        "  def model(self, x):\n",
        "    return 1 if (np.dot(self.w, x) >= self.b) else 0\n",
        "\n",
        "  def predict(self, X):\n",
        "    Y = []\n",
        "    for x in X:\n",
        "      result = self.model(x)\n",
        "      Y.append(result)\n",
        "    return np.array(Y)\n",
        "\n",
        "  def fit(self, X, Y, epochs = 1, lr = 1):\n",
        "    self.w = np.ones(X.shape[1])\n",
        "    self. b= 0\n",
        "    accuracy = {}\n",
        "    max_accuracy = 0\n",
        "    wt_matrix = []\n",
        "\n",
        "    for i in range(epochs):\n",
        "      for x, y in zip(X, Y):\n",
        "        y_pred = self.model(x)\n",
        "\n",
        "        if y == 1 and y_pred == 0:\n",
        "          self.w = self.w + lr * x\n",
        "          self.b = self.b + lr * 1\n",
        "\n",
        "        elif y == 0 and y_pred == 1:\n",
        "          self.w = self.w - lr * x\n",
        "          self.b = self.b - lr * 1\n",
        "\n",
        "      wt_matrix.append(self.w)\n",
        "      accuracy[i] = accuracy_score(self.predict(X),Y)\n",
        "      if (accuracy[i] > max_accuracy):\n",
        "        max_accuracy = accuracy[i]\n",
        "        chkptw = self.w\n",
        "        chkptb = self.b\n",
        "\n",
        "    self.w = chkptw\n",
        "    self.b = chkptb\n",
        "    print(max_accuracy)\n",
        "\n",
        "    plt.plot(np.array(list(accuracy.values())).astype(float))\n",
        "    plt.ylim([0, 1])\n",
        "    plt.show()\n",
        "\n",
        "    return np.array(wt_matrix)\n",
        "\n",
        "      \n",
        "\n",
        "  "
      ],
      "execution_count": null,
      "outputs": []
    },
    {
      "cell_type": "code",
      "metadata": {
        "id": "1UQPutRJyNue"
      },
      "source": [
        "perceptron = Perceptron()"
      ],
      "execution_count": null,
      "outputs": []
    },
    {
      "cell_type": "code",
      "metadata": {
        "colab": {
          "base_uri": "https://localhost:8080/",
          "height": 286
        },
        "id": "S9jX2tYjyf3_",
        "outputId": "af3331e6-c623-4a4c-841b-9b7bb42c61ef"
      },
      "source": [
        "wt_matrix = perceptron.fit(x_train, y_train,100)"
      ],
      "execution_count": null,
      "outputs": [
        {
          "output_type": "stream",
          "text": [
            "0.927734375\n"
          ],
          "name": "stdout"
        },
        {
          "output_type": "display_data",
          "data": {
            "image/png": "[encoded data removed]",
            "text/plain": [
              "<Figure size 432x288 with 1 Axes>"
            ]
          },
          "metadata": {
            "tags": [],
            "needs_background": "light"
          }
        }
      ]
    },
    {
      "cell_type": "code",
      "metadata": {
        "colab": {
          "base_uri": "https://localhost:8080/"
        },
        "id": "MRvrmxu6y2n7",
        "outputId": "b3981419-dc48-471e-d528-1794b1205a31"
      },
      "source": [
        "y_pred_train = perceptron.predict(x_train)\n",
        "print(accuracy_score(y_pred_train, y_train))"
      ],
      "execution_count": null,
      "outputs": [
        {
          "output_type": "stream",
          "text": [
            "0.927734375\n"
          ],
          "name": "stdout"
        }
      ]
    },
    {
      "cell_type": "code",
      "metadata": {
        "colab": {
          "base_uri": "https://localhost:8080/"
        },
        "id": "ukvlY1nfzSNN",
        "outputId": "021c1b88-8a1f-4c2a-e323-0d1ea3a59159"
      },
      "source": [
        "y_pred_test = perceptron.predict(x_test)\n",
        "print(accuracy_score(y_pred_test, y_test))"
      ],
      "execution_count": null,
      "outputs": [
        {
          "output_type": "stream",
          "text": [
            "0.9473684210526315\n"
          ],
          "name": "stdout"
        }
      ]
    },
    {
      "cell_type": "code",
      "metadata": {
        "id": "jEUoobLezjuD",
        "colab": {
          "base_uri": "https://localhost:8080/",
          "height": 265
        },
        "outputId": "620dbcae-0611-4c31-a00a-c0ec062d3f0f"
      },
      "source": [
        "plt.plot(wt_matrix[-1, :])\n",
        "plt.show()"
      ],
      "execution_count": null,
      "outputs": [
        {
          "output_type": "display_data",
          "data": {
            "image/png": "[encoded data removed]",
            "text/plain": [
              "<Figure size 432x288 with 1 Axes>"
            ]
          },
          "metadata": {
            "tags": [],
            "needs_background": "light"
          }
        }
      ]
    },
    {
      "cell_type": "code",
      "metadata": {
        "id": "EsUZILATFP4T"
      },
      "source": [
        "%matplotlib inline\n",
        "from matplotlib import animation, rc\n",
        "from IPython.display import HTML"
      ],
      "execution_count": null,
      "outputs": []
    },
    {
      "cell_type": "code",
      "metadata": {
        "colab": {
          "base_uri": "https://localhost:8080/",
          "height": 269
        },
        "id": "M18a594WGBap",
        "outputId": "f9aef3c1-940c-4eef-c30a-d231c07ae108"
      },
      "source": [
        "# First set up the figure, the axis, and the plot element we want to animate\n",
        "fig, ax = plt.subplots()\n",
        "\n",
        "ax.set_xlim((0, wt_matrix.shape[1]))\n",
        "ax.set_ylim((-15000, 25000))\n",
        "\n",
        "line, = ax.plot([], [], lw=2)"
      ],
      "execution_count": null,
      "outputs": [
        {
          "output_type": "display_data",
          "data": {
            "image/png": "[encoded data removed]",
            "text/plain": [
              "<Figure size 432x288 with 1 Axes>"
            ]
          },
          "metadata": {
            "tags": [],
            "needs_background": "light"
          }
        }
      ]
    },
    {
      "cell_type": "code",
      "metadata": {
        "id": "bhzPkbSGGkXT"
      },
      "source": [
        "# animation function. This is called sequentially\n",
        "def animate(i):\n",
        "    x = list(range(wt_matrix.shape[1]))\n",
        "    y = wt_matrix[i, :]\n",
        "    line.set_data(x, y)\n",
        "    return (line,)"
      ],
      "execution_count": null,
      "outputs": []
    },
    {
      "cell_type": "code",
      "metadata": {
        "id": "HtyCNiXpHenv"
      },
      "source": [
        "def init():\n",
        "    line.set_data([], [])\n",
        "    return (line,)"
      ],
      "execution_count": null,
      "outputs": []
    },
    {
      "cell_type": "code",
      "metadata": {
        "id": "0seeeg-ZGvZ-"
      },
      "source": [
        "# call the animator. blit=True means only re-draw the parts that have changed.\n",
        "anim = animation.FuncAnimation(fig, animate,frames=100, interval=200, blit=True)\n"
      ],
      "execution_count": null,
      "outputs": []
    },
    {
      "cell_type": "code",
      "metadata": {
        "colab": {
          "base_uri": "https://localhost:8080/",
          "height": 309
        },
        "id": "F08oP4fBG2rb",
        "outputId": "599be125-83b4-4c53-94f3-f4e75bc99ae8"
      },
      "source": [
        "HTML(anim.to_html5_video())"
      ],
      "execution_count": null,
      "outputs": [
        {
          "output_type": "execute_result",
          "data": {
            "text/html": [
              "<video width=\"432\" height=\"288\" controls autoplay loop>\n",
              "  <source type=\"video/mp4\" src=\"data:video/mp4;base64,AAAAHGZ0eXBNNFYgAAACAGlzb21pc28yYXZjMQAAAAhmcmVlAAB/6m1kYXQAAAKtBgX//6ncRem9\n",
              "5tlIt5Ys2CDZI+7veDI2NCAtIGNvcmUgMTUyIHIyODU0IGU5YTU5MDMgLSBILjI2NC9NUEVHLTQg\n",
              "QVZDIGNvZGVjIC0gQ29weWxlZnQgMjAwMy0yMDE3IC0gaHR0cDovL3d3dy52aWRlb2xhbi5vcmcv\n",
              "eDI2NC5odG1sIC0gb3B0aW9uczogY2FiYWM9MSByZWY9MyBkZWJsb2NrPTE6MDowIGFuYWx5c2U9\n",
              "MHgzOjB4MTEzIG1lPWhleCBzdWJtZT03IHBzeT0xIHBzeV9yZD0xLjAwOjAuMDAgbWl4ZWRfcmVm\n",
              "PTEgbWVfcmFuZ2U9MTYgY2hyb21hX21lPTEgdHJlbGxpcz0xIDh4OGRjdD0xIGNxbT0wIGRlYWR6\n",
              "b25lPTIxLDExIGZhc3RfcHNraXA9MSBjaHJvbWFfcXBfb2Zmc2V0PS0yIHRocmVhZHM9MyBsb29r\n",
              "YWhlYWRfdGhyZWFkcz0xIHNsaWNlZF90aHJlYWRzPTAgbnI9MCBkZWNpbWF0ZT0xIGludGVybGFj\n",
              "ZWQ9MCBibHVyYXlfY29tcGF0PTAgY29uc3RyYWluZWRfaW50cmE9MCBiZnJhbWVzPTMgYl9weXJh\n",
              "bWlkPTIgYl9hZGFwdD0xIGJfYmlhcz0wIGRpcmVjdD0xIHdlaWdodGI9MSBvcGVuX2dvcD0wIHdl\n",
              "aWdodHA9MiBrZXlpbnQ9MjUwIGtleWludF9taW49NSBzY2VuZWN1dD00MCBpbnRyYV9yZWZyZXNo\n",
              "PTAgcmNfbG9va2FoZWFkPTQwIHJjPWNyZiBtYnRyZWU9MSBjcmY9MjMuMCBxY29tcD0wLjYwIHFw\n",
              "bWluPTAgcXBtYXg9NjkgcXBzdGVwPTQgaXBfcmF0aW89MS40MCBhcT0xOjEuMDAAgAAAEltliIQA\n",
              "Ev/+963fgU3AQO1rulc4tMurlDQ9UfaUpni2SAAAAwADlGX8OsidmA88y6GZ/02b2g1gjvLH4xTy\n",
              "2fmUGzfV9ZvyIPYmqrCcmekF02fBENtN882c8j8QE2tyBs1WnoR/slNLhn5TRelWS/9cLLoFcr7H\n",
              "HJ7V73RnK6L+vkur0JyIhZgaXyn/gq2d+r2IkXF/g+83w+AMa+bWulIQAAAYByXzwH/pSc3EK3DJ\n",
              "HrSjkvXOhRXq9XPKf8BRMbnZ+5aMyhKsdTA8008IUQsnFZBA5VnZ+azPkbt3VqPcE88+IAeDC0Ql\n",
              "1zYi+Y4PQdsPYL3USLhQBDI2eLfTL7SjsHVO0jcEguKgQFQ3Lfbo+rSx7e88L6cQHv/0GhxAmn0G\n",
              "ZKPyJfVg+xKtqSLidd/vU6faKI4d56jR0yMDhixrUZJfJwjSBn/AYhk+sbowmpDkaVbH8QKkrtp9\n",
              "lt4imkjEQ9HX8R5TEBBwirbj8CSsWugGUbys0uTNNBh+d81pQq+pWjUGvHAJZEfzK2J/G8B6HE3I\n",
              "cyZngvU6mStBsImOeIcksqQuv5ao07qY4Llmxk1pgYFAAFUBNihPSOaxTmQccgGtOe74j57bmQc+\n",
              "HZR2lmrNLvYz337Ns/RBoR4NaOuLxMudvX4H07YBF9lDd+TBQ3cdc5TYoxhoFGsOOlOMJ2prXqog\n",
              "wSmOIYcQY+6k/xzX/BTo/T/Ovufd2329GTSfYXzMf427JvVx2tXHbX3h8C0oPFsa8Z+zl+KaLECv\n",
              "zC87H1LIHBkX9WtKT9DPUMAb3Qf177/YAAbqi3X9OdQnaWA5AfKhhSBpB6vkU6XqrlapL55qVqDj\n",
              "jT5VU6y2t8mtItW2CCbBaiw2vcywYa59cd/aABZAsnD8pEmHcs/YVDWAh2I1AACBtZe2oJD80b16\n",
              "TBpWSCjcFuU3eANnkh+cAz+CvyaPc9yjKWOEGYu+tiLCqnDZEXMoKDjlBZ93KxSxKugKSsWj5sbO\n",
              "oesbjDs2XZVTRfvm1sd8/QBnEeA3MkBx01XeWB/7nwMbdOAbIptFb6Xn0Jz/2fOlAQuXgQ2QA9DB\n",
              "HfipWSH77RYMWkhkFMqaRGOrIllkS+j3Na4VeNmp7uBLQ+eVqPUt39L4aQYfQwiGdus56wl9dRfk\n",
              "39h8H+AKtpxXJQTo9gJRiQ7huISb/OA88l/agi3mJuNRYIOA5FzFT249criAdK6Lt4bDE7z49/e1\n",
              "PQPQYRmp3NOq1SVu2xGBiI+fv5QWkyrUM1YV1eaG8KHFc0BJa1ukrrZgXX4mfEFk8uJvBtvJi9ug\n",
              "4XzqbFl7Zq9pYYK6yAzGfDsCjrvJN+GnvHyAh4z+QzhdFtt7fVD1zvhTEsT3zoUV56QJ/55GZG6N\n",
              "htZlLGbg+behOxiuMVtSfF2nNXzRZjgtw8gh8LmOmI7Z4mFQgQZJ124Gqqk3rsJgQW3+nhLqRE3w\n",
              "4l/KHI7VoAIhOJvTKoLhZHwwtogQQUdevF4J8wsd6SmckOyoxtUc5l9cdJ8aAPjawYWANMcJvvdo\n",
              "2wkxCdFLZRwH5vlsaC5j8ScKmaqi5F+gDi4H8ZrNo8SZfWxbDj32axvYS1SwWjJ4i7tAxoW/UmUG\n",
              "EP4OwfYgAAAGtOKswhT5bDm2szbLIKbSCQkaVcHaj3sZCIzWOewGXAtzUggifdj/HDphk3npHxTm\n",
              "/UZXR4RrUzpDtV0FVgmXjdlkJEfLmRc6EauwibkDAAAO3C9OXJLdAiPc6rhSZOJ2J1sVDO0pBO1N\n",
              "XhQzy+CJ03X0Pp198Wjv7ime/bZ5hYfyGrk6TVf5n1/2wKs7eEtEOzsnNRH9zikEvQ+E4u0SWy/H\n",
              "2qs0Q+lon2Bjh5zaK//eEyUcsxUbeD0gGjCzUHxUIaLUO7YNMCquRhO6AOVUxiwsactoeBYt4M1p\n",
              "jivdp2M3zZbW+ohcKyrtghdOQITUCo7VkHRWh5f5q5LZcHa85xj7bwQ8ntOn3oYDZLRNuk1w91XT\n",
              "mWwOqtibEhbarnfLpi9hlt2vUSDsDSTXTfSNMxVk4j+tovPcZYHw3gU7uPGeDCPFEEM6SO8HSrGP\n",
              "qk3rL3BeFnFjtbL2c/O/jXnINz8Io8LkNS4nMBgqt0s2bl9goqFdCqcVxAqGeenW8U7mgub/s/gM\n",
              "mh1ETreHWTnh+uJWQrSARo+KBq+EzqAF/+G+xJEF5sLo8M1o+U8PHOuHXiCVogUeRdSAeHLFT799\n",
              "YcmKRAOm+sHui/pRmn95u3dwCTt4z76Ap6XAkXjeR/sjme8ZuLJrN7PoftmlKGwzNFPf2usUWf/I\n",
              "R1zjblu08y82vTFzap+eGcbuYwx7QKLo05O3Cnta0hq9gyWjv9rxvhHvyS8nJgjKXWwX6Id6cDYI\n",
              "6G7syzzFgobs8IW5ep+CT3fyMeVE1JQQgJ33/TW/rImvn9fIX8b/nlQM7UQqJQeivtkb+SqmR2Kx\n",
              "kKKqdMStzVrFT/iLA1Ld+IBMGWLl8vHjzicnY4hC67ryZryV/i2jrXLtBnzmEKgjuOdNAZFkWnj1\n",
              "ZWZyKxu+IjbzSAiNyE/Op2aJPZp2/bY/GZyw6fBOkT5eCrnLx200kT3/qIbjKNfRQuH5q9X2z69R\n",
              "etiFUiyLXA6qdGs2m/Tv/+EozIKx/JdQHZXHYs8I6slzMUDnQ6vL0TXuSX5Fy1XBciVi70KoekyA\n",
              "LGJuaexnlZBuSUXkTYUgG/TzWrdzgJ8ulFaFZST67yhfY7y29QhEYGDjsTNxcYphTtdl83wQTtlJ\n",
              "MpZZMQf/9xkFzibgD0gvfmjy5W8va6MMVNYS7kTxa8d5yFDr7K3Wp+2qvrWT7B6j6VYz0tP3MEs/\n",
              "ePvmOFQ2f/K7vPaoYH3rTrY1dPqx4ob0Y0JgB+CaUAVMnvh5hA1leTMvIN7zRFuMKEA3C6/P69LZ\n",
              "3Ppefpa0bQtY29TioNCjtjFCdBHPhDOSnF6o01gTzgGBRVDxEmthIxF1KBwf8IDvDybfeWZQpVI4\n",
              "frI3dTPSBxG4wM+eQ2B6veoYE17aS5GII84rNp1Y3cRhgqwmj62vRqQidj/yS/DHhN7MzhZ5zJ2n\n",
              "ldR867J9dI8ewCnhSKat/FOMk5tP34dWGW+NLbqg5p3ZPYH/9mJPtscjPEpbOtpokZDV6y9iS7Al\n",
              "yDUVWteQvsWe6pZVrP352YhVuiTdydyPs50bkp5xDD+JI4/iXYyZZ+WDmxfHjOn/yLvQXj0hMo6h\n",
              "t+5nk/vnPeRMaNQWICfje4+ezKd1c66w784EXI8CKhNP2ATHX3QS0Rn8aL+BpPs98yijC3m7l1zG\n",
              "oAiTcxhvartxGzH/aeGOHhGPCtXrNdo4i8H/FadzW0Nj3BbpAxcdd8kPMZ0ANqLd0u8k+5Iuv353\n",
              "1SSvA3JncXtNacUNQgFvB/tTbsrej02cu/eeG1aoINlN3OIG9EuDQe/PhpbDqyD5kTlaNUdEGq7k\n",
              "Nx7Pjq3NB0px6B6JcdKQFjd3q3lMhPzxRwFEjmbJuCc+g+oPjaP+quyipCDKVb/kzbWUj6Vn227e\n",
              "ik+noKR7k2NpUOwygZpLCy/tKOgwc2gG3QtByZU07rIFvxwve6uysZNUhR+sOsFRHACMQEtTHVY/\n",
              "YsYS01LsKfSldrDp3lIu6PUdBxkI6aDU0+yK8q3N7x8F2gLPMR1g7qyQhVxp5t0G7lOnDqbKgyYs\n",
              "CsndXk32h5SdCed1ffmOY+KQF14Lc4IG4ToDcXY8HZREsSIsl+mymMgKqgyoueZtSNFABWVvAxrY\n",
              "RD4aseiOLM8KU51Q1QsACpZc7+ax+Ep//ZxDPaX1uzKiF5T46kbWZtmx3o3OPltt3f6tQLVFS0DY\n",
              "CORQE0HNGwolHERUylJzJqJ93nyRWNoRPRATmGV79mUmfnyHeFD8klQN+CszfhvvQUdCzKSyovXC\n",
              "wgvd02tHMxdchcvwL1Pp2Gk6D2vSNmuVYKKFAgiI9eyO6YbHoJxSEbzSQHZYXOZtPaEVrHE8FftO\n",
              "tI6+mNwSix5SKTs6xDBXT1ERFULg4KS1nAz3znZ+pm/jyy+5Zm2tt/Z76PFTLx/4yeVyzztVYwf0\n",
              "N/RiRPgM6ruoSb1FZCL8TWt9GHS3YN6HIXCJFw+TecjICg3V34mO9HDkDGSMmmv9/GcO7ZAOB4sW\n",
              "ISFpL+gV0wCbuFF+Gl+9RdOsEtL5xEYvXcEJ8ztwAwzNQiq/m9ykKsbPjPF8Kq6gErFkJQf026C8\n",
              "anPl8fVZrWwC2zMtnW1Hcxe5kE78L2OgVF3zM35F0QtFIKABDHUSafeIW9xNHwZqvg9SJId0NN6M\n",
              "o/6sZCSHQRLyytiwYHR/SvEzyK8a7LrphhqcXWkICrtt/OzV56h6vWgr1qk8cOhT4uc0yp7w8vfn\n",
              "gJP9CGLhE2ldzqg1xltjfT1o6Wo3BEdBYkcKvc7qrRFvTqKz/MxGbRqGf33r1y10S201xYZaAD54\n",
              "of2mawf8kgyZnX567z/pKR6ZCV05CCmF+DbDpN0LD5V4cyNIHSCviVs9o3SjZY4gDImokZ8pUoX7\n",
              "7xT97QZqcvcqVukH0kycTbrisBMfJkqzrRtDjF/y0JBzUt0BqX4/HW38TxMGUmztPm9zv0N1+tZW\n",
              "X+A+NX5AaapRcW3hCRmXnzk8I8yvxR+oPKcEBJxmM9DdBi72bsKQ0Bp8+SC8DBV6MYOaj0uKgsxd\n",
              "N0g6Tb7VcTtlxTC383iKSDLqjAM05d+3ntEuph6Skguwa9i0t73lkMM4uIflMYkAAAMA12XsC8sy\n",
              "vVg3b+QhWRk0/PAecup9hJD1X/6n8Rb/XGNXArbrCV/8AHGVIH0UkcfJJoRXkXeNNQGO7kATSbZv\n",
              "sOgafhzax5Njn47pkfRyLFgtUUZ7XCwretm3WmTIvw/nex1SdpPFNWtFWM2ncjh9bxPJY86+DRtN\n",
              "8Hmoj336Vxl8+GQJehHsMI2LiHZmsuYDeJPSPckQ4WxJBb7Ja22swE0YD8mqr5Gh6Ln19p29IyTk\n",
              "w33BiqJ5V2x9IXErC5Xe7xBsYMmsA/a3ksCHLHXtmhs8/SQJR3k/ff70++VezD5kcktHrGpDCzAf\n",
              "X3yqqqPj4A9zG6YvGEojYEx5t7Yd35XuCb1lhPt4OPOAIMzF22lPDS+L6JmsrxDy/w/0jt2RoDTy\n",
              "tYu1jkRiSbJePa/GOVJwOStrZV9XkekDHnoMybwEWbdg9yVs8hZMvHX6SN+kntfjHKxa4wXymwvL\n",
              "VbBoLeouOxqVOWSg47gWSFMG7tpxgbRrX1xHWS2ccUATKcqu6xXEp7aA807L5gj9hDcQAET/2fRj\n",
              "C/p3mwXi+FuqMBLripEDNabEDDenHP4gy3OLsdEPXgAY5/nGnzcyH3uxZCU3ZKtaFnZa1qs0l3+7\n",
              "kpvHjO1oKRxR/xC8G4hKH8U8muP/9H9OGsHyxbAgCo0JtmGQWsvuKaD7KsBH7s7/3770T01q4Z01\n",
              "zWz9sVhRcW7hJdaFch5qWOjnuv75QBNZsbyye1949av7WNzFTQddUBTf9HjkRJr6hgYGKV81YPnD\n",
              "OtatHxX477K6ptjDTkdRxec8ZJvoiwDhnhygwmBmGF3AQHoJhV8xfK/EuBoOInQ8aCfPViBr4lV8\n",
              "/ZS1pIPgZ1fchhfSM/epkfN7tqZly8fkYL+5xlAkow/gGdS0XSkrhKF/37H3WHgASqqsvHx0cfDV\n",
              "75NEsJvrqKofKAUPP6hRZzxDNu6S99n766T2ObE/tOMOILnmtp81OGDvPJ55iN/5VkYRA4uIoYUj\n",
              "N5a+4HmWqXxHZlUQcfmetECKGIoPevdF8/aqrBwJXFNPZ3yeHMmL9NVMRk/cpr6vOB9ciqaOxOQy\n",
              "c+XlUdo8NRwY3cWFmIu9XzB0QlSF2za6fQC5bfNdXfeJf2WWerlX69vjGhqOAQ3TUYr2fBk3BU0D\n",
              "FydbkxLPpVD/vvEgf3evbS6sPOb5G6DwHPZyqdpzjz/+f52U9vU03yBFklAi4X17faMd4DzVgMkO\n",
              "7nqFeR2d7/B2955my+wq1QfMkkJJq+k3Zdky6Cu461b9dwSSK5BvVs8saZrXxV2RbvvAAk3JBX2L\n",
              "LwYA0dHrLJXBXM3U69IchsfyD2S2lRfV4X+y6LTtdzp8C/9DjDtNKFNn7YaxZH3oqFznHbaYN6z0\n",
              "+SWG+Bp6B4PiIY8KmuldGo+PnhkD0mhbfVaDaDv2rlhcsVxhJCJ2i8VeQ1uFWjN2aBPihhriYKYf\n",
              "6vINHdGICGgwuz6Ts0jx9006wRcVIYf6VZ6tPfoifIZqNFL57rPWBySjRHTz8s6nqUgmt6QA+Ke3\n",
              "2xhC0OXW2cSuAR+OgAJlPVfgABCxAAAEl0GaIWxBL/61KoAijRhlAKJDkg88GDixyouTaN6qewPI\n",
              "FvO+/gyMA2Tt9Lnv+u4Kmlf/j6HQ7pTA4eMM2i2mSpzpGK9B0teJjuDK28Qnn91rFY9cR9rqMsyn\n",
              "R4iesb178rKEzSrFi74QPrYw2fS6KhqS24iRD3MPewwiyB7bJpOXwl3CFae8gnb9pd+xrczTDfQG\n",
              "U6uibIde9VQGpj2WDFlnUkIuntiNCS5wkGNL4j3M+cU7nU6RWPxHziFv5gf7u1Y+m24XUn9vhmUM\n",
              "losMYgZ72miOHQ9NjQvtRai31PgwGAAcPq0UYeSyXSHQX8bBh6epT19GrYrSXu9+wXGZ9xsdZP/j\n",
              "XiKSQzP5ff8eut2rhKvkncGxTmQ8XufWyW/562mtJn1iQWqf+4eGdBAfyQsFv1OWVVllUs0PKXE9\n",
              "ZZjPANcyi0+cajmO5RylVn9AUjfjmphmFcYKlxFCzzBy6aKa59mvNl7HPVcvlJoyx5VDozU374lq\n",
              "DwEluozs6aqQQMrZ15pY8qTg8uvnmhkXzHP/HYRTRMEhPotwqLaqdjUaRCMbBwchXLRUPPC9scRH\n",
              "W5yV2TFH+61Z3v/6eFoPDIce91XTh2jJmMW6L78KS3R16mZBXB7q6bBZwT+XJS5IL4xVjIUlBQH5\n",
              "9kFFL6TJ/L7yqj/A0ioDquxaZGtr39YFYiKjfqpqou67lPh9AAFqWlcY3buNtUWYSBPqNo6HzC+l\n",
              "UWNc9i/h/LM4VOqCcfDtS+HKOwZZ1XAN1AyL3Zrb/OEVX3hsuQwIc0pfkd1sCCPuhmrevw11p52H\n",
              "fljHizLagiMkAYL1L3XV1qbY9uEogCfA4D7mCrQclkWhhiYmaL0kBnlFAfSjTw26J47ns0phDAF7\n",
              "TKNhJfNTQUlazA4OzAQU/Iqve7m+TKwv5rjv3yfY7CV4JEe1Z5RTs0BgemQhO3XynGBjoRAiXUWn\n",
              "iwk8gpvYhNF/Dr+JWpO/NvfOA9i8zba+q0rEBkwif6H4QBjStXm7ewCDqbMu47UMs5+9VjSfzAco\n",
              "S9Kuk3mfzdgzGCaXPTt4eI781rFqdXhxlKXyuJQA8CFL9HAmP3Ou9g2NooTjdPkqD4uyXaWFi+Vn\n",
              "89sGQyTWvACTgJBRdxW7H7PQlmx2X90A3gAkD6P74Cvsa7deyvw4E4rYInlb+AppJd3ZZdeh81i8\n",
              "6rExjN+XoogQX/F8PxKeCpP/k2kbAslJ2O/2rLLY8PGcgmC9DpavT0zoulIfspaRZ1FvPgcYzAqi\n",
              "VrNfCz3PxX2ljheQfTeHOPzPr9TrdW1JYBsd9kjKFp7l2k16SXGXbMSQsT+xXhWkn9wi7V3VKBXX\n",
              "Hsk8NXmMAdQZ/xAvOQAbORHhAD4k7kQvfUjw8ECmw6zwtbworxPxdJUxFSixr28lmPV5oPYXzeRQ\n",
              "Ju9oYBGwjsFha6OG0zrwsvGB6I/TBhLnXDUSpfSH+mz+GQNCGLx2O0QnINP7WdjroWRjNHcIwF3y\n",
              "gWX/OXEEaZPmxDf0Wt38WYnA2/PrvCSehu9DjciALmPDNqT9mPOAEjZ0t1pIrYzKbv6aEnGiMfYO\n",
              "uJKAAAADzEGaQjwhkymEEv/+tSqAAG8w7AVKAIQWUlAWT6SYpii8hkc81HED3fq4hYgVoZa18sUX\n",
              "6273bvKQqtG9yn7Luax1ibla9w0nJECnHu74Oxwkj5MlCSCGTweqlkIIOCmP5gPLMmeDdK2zesEf\n",
              "FsAYoYsCwfJWk0LxXi+NeKpi/u4BDqSVcbs9vaxHIiadRjDD98oOecP91TPupN1vvaQz1GZmcUje\n",
              "CtrJ2sKG8ghloBTDPP8/ezKz2F4w+b7JiLfYVyrn0JknlAizD4jZuc4+3Wn7X21STd46VoeS+XXG\n",
              "OCaGzgo6owE/PKesx7AwMsDpuI+uHGoSq6xT1DDd+dQ1K/JK1ObFz9mzCHbkcz5TDncEJdbCDwqh\n",
              "fDRqWwviCvuxDDtJuh1sc/6/2v8KL2h7v4XIgKoVSQP9ca4u3UgOMMMfshNfFYEuQkBtLh/FsSTb\n",
              "21xGxXf1Wf7PZ1/2nZzhaDEj5xDtylWv/n8sUnrJw7Zv7nV3k/YcfjGV5z1ONbEQej2DEryZ/xWP\n",
              "EG2WX4IHt0dkVnsvpiK9SIR3fX0ah6Xb+3M7Aq3g4DdfD/JeBFKsZAuSns/6tLJR3A4Mis1DFpCL\n",
              "ZpD6znyOz9U1ExlzGp3yQcRlpjk7ZNS50Gekdw/wkfnpFHiDN0ndA4fXQdDMlIRVg7SPQk0r3uy7\n",
              "+wP8//iUmUwM6cbMwW55nAnSwL7PCNGKQaJHO4VAIZtaUZMdYHuRDeyx90oqeS47QjWnrSmlLinR\n",
              "xcU+Q8eUjH7Typ9Bon+4keZ/ujopUXdeazbyePqxdIw4hSRwB34IMRCvdpOjyB6pUMmJS/tzmtAM\n",
              "eMYjlq38rjq9Xue4q3LqNR2Z6i2yDG/ng8X2vzKXD/at0fW9HAQGfeSLCP0PWFMIK9UkXu66Zy8C\n",
              "auZnxIz1GT5PNYum1d0l0hgcOn0tVgBd2lTpEcoJahDRyI1IHheH1sYIdUR42JNYujy7VpVE08Xp\n",
              "Wv/0jRCDt/cjF3P7q5c2L5k+fglhOucj/srYG8yCwOC3dhORQHctTc8EZMiTiGyjJSYGuTV3S8bC\n",
              "rlBjdIXeEhs6sUSH0gQpmJuO9SykF9RbBxD1CszkhLdsGlLVVdBjLZWDIn352166+ll3nyJxseWA\n",
              "eZVHzOWq1pDmElWcLa7Bcyah90XWrITTPVyn93y9mpjn7cw/VwKyZZXT1ta4pEMCRJKOhrW0Vzqb\n",
              "tAXXbZpvBzSIJdf+ZqsOeJojhtzyuTIeMPe/24Biccu4kywV6yEzCIqc85f7PiA+YBRc4wr5zcBH\n",
              "6cPQiBI5aDj5pQAAAydBmmNJ4Q8mUwIJ//61KoAAbybttjYt9lMALD5mgRYqTvratGPyeGfBjTaj\n",
              "/eQ3UHdKH1kFfUbAybnsjXTvyvmeRMyv4ac5r/hsm7/l1x8+K4aVcJn4KV/JTAy9yEouw/eh4vox\n",
              "LTOnQdvDUzbnplXVYGBg3LnFn9paiAF2Pp7JGEcyRkaT6RlOgWV3mP38VjzMrM2ZhOJnxKtFjiNt\n",
              "XOIEsW+tLcGcOrIXSkbKC7IXqpDTPn1ysBFPw8Ej8fs1rnR/GM+7YiPA0eld3tY3wZFTcHSXe7/c\n",
              "MIi9LwcVVBOgmk9I40OexYsce1ixPgruv6uu/hdBWgwEuf/0ZzGcRvXO7fiKfc2t5wpUiEzFgO3V\n",
              "5/n66/PS0EHL4HjM9dz87N0AarGx/7QqXzP/sgGMLmFqGsDHOtwtib8Q0TdVeo36OwsKi1XS2Mfn\n",
              "9/yYtQDvv11EQK2VcJlh6BnBA8dKbOeFJDxDt+B04nYlz1CM0N4YwcM/YUsoubWkIW5EEmnbU9+V\n",
              "OoI/VJXsGubSIpbvKdXKg4ONby2Fst7vgUu/9Dtag9iOhywk8k3oyXp/c/nPSWCEvRSyRld1JloK\n",
              "Tx1Q2Uhkh4HRfMm9B8fBs9xLP575hy6zI8Jr9krBYYZS6b8q1i7ne2vRMtKgkUjo4konnXDE5FEY\n",
              "n+y1hxvrYK0gSO3Xj9VuITEdbpx1Vf3Pg9M2HgjNMkhfc5ihGOHWTppHWeTwdqO+kdO7JAQgN7rr\n",
              "DvdfxxjvoFQp9R5/ybhv3Hm9y2Kd9uPUI5xB7u5VivDQ7IxlkGTKV6BIGIZsIn25FyJ2qrqyefzQ\n",
              "AVaHFUGro028/gjsZcl9xNt37eGH+2ExhejIKF9+SB7KMZVX3BQ9xFoM03wlOzBlb4vLqG/KVDe6\n",
              "+HOdKNVtVWxpPxyOvWlPahK0HXrrTxIp+MoOw9enRP8424iXyZuThgA+GiQ3kiWiX/60z+xj5Rrz\n",
              "KBuVkUeBCI4BVjJjB4v9u4GjBMgyiVAWuktusRwD0XTYINHTWlX2q5+joa8XgJ1KhK3CNMs/xeZP\n",
              "vVDyRgd0r3qDCPRUlMar4ke69HOiPSAAAATlQZqGSeEPJlMCCf/+tSqAAN75SAHigBwI5UtjZ9Zg\n",
              "BinYc9OABLGtvbjqPLXlKx+dvpqsrcz+v3eTthL8IM50aOxX8XlPaHx7hye3m6AMS1Py2C3zJv8O\n",
              "S7XnDy5CfPWIBkq0p4crbKoTQGrTkkdPOGsIINAeiB8t+QdTRBV1UeUB/1LNuIbIalPpzAArBPqv\n",
              "0pTVYlJ94w+tA5OkfKX/dEa/efCPpX3q1iI1Zm11n8LqkBakSj/U0m9A5PidlmCqy1NGSwqpxKRz\n",
              "WGia+AgsHtlSwoL9Wef18sdDQBRTfCtCE0kmLjYMgqSwaEqBHYAWy5g2D/E5FhO3Iw0l/kyosMV9\n",
              "qoLSozOGji98HzokDYZXCdxyN6YsIU/sjjp5x6NA/q8VttYZoPdnjct5eWD5N1lT3/EXgMP3pbyD\n",
              "k5A1h4GYTBCs7Wa6BTwgXUbd3NxYrEZ+Z34Mou5IAvnirPjz9/ZG8gWdOx83bnS0PQveoMpUq77M\n",
              "NESIwhqALOXyuBIq5QVnxKd2Bcw6td3yRh6bOn8Auj1ytC2VfmtZn1mydtibazF5Rk9VoExZiPOm\n",
              "cPGqCa7aclneUi9+o0ymkEHn07e+4keePiFz3DxEsuncxRHB5Cpt/XKxI2RGhDWfCtRJUESV2ipC\n",
              "pBZfpnRG9ZUQBc2ScGli8Q3ONAczJ1B81P+49NZB78YoNUhzqgP+uNHWfhsOOyFrxD29npEmGaZH\n",
              "GcSQXRNTRjUnO1YgkBt40rvDn2hfBONl75ZYUsZndQKQuxfrajCufXCMWDOOFDXS7Cjj0hnC7tvx\n",
              "7AAZ2weGie2ssisnoCngqOG9/JtPRP6hcLQat/z/keHhtagAnRdxsEbyaFGlUsiT+PY9AFM9MTt7\n",
              "fTIyjnzFWrDmd8RYyttZtBLtqFeOrZvnLMfF1aBIW4agfW4tK93J4Jny2N6lv44yCoJOS4KcRzLt\n",
              "4htL7JSzBag5iV/xQTvGt0pOF8gNEQ2LqczI75xuBNnJ+P97zE0XCg9YTnxcQ3P2MMuyOI8htjFJ\n",
              "UeKg6SgcsKaPVsaBYsfGWKDb+hijYoA4mdZ8zsKuNxVp1CejkGxSGueR/5JZNPU0zv5M06gXSCAU\n",
              "7TSj36kPWR8N+GUdAl6uBizBXU9EJ58KOl6mg3jEGaj2gmia/XV3TjrC23VZotM+oACDuU6/D/uw\n",
              "GnpUN5rvlCg43cyj0bN1dVjOUJ7R5ubdsTAS7DQBBB9TpEfep5pJaOMBnRbxwqVNzyhT3UqnL9aD\n",
              "DB2eNOqsFfDsRrfvHkzEIEWWVA4TJvMRPyg6lWzkkZtXpqVqTT9zGq3X2Z47cTz6whiWvUoZGebS\n",
              "RXryI+vTOln4I9k4etlbSpzaHo9VE5yQGbNxhpgeQaxM27GUUzz3aDriCSRpg/f0dCr+f76wq6Cu\n",
              "fnSW4PzeZAWxdLef1C6YX4Jf06WY+yl0cjgteN4z1+ve2SicvB5TJBIMAAuEGR98IDR1RN0iL7oV\n",
              "aMS8iSY4DkM8HiLxlyxdBxwz1V+Z6KxD6EWYIHQQYM/JqziCr+VrGU4aUAnrOAvREjrXJB2yndiT\n",
              "CR9GxxWmCnkmMfrU3OEIibOMMIm7Y0Tnw6eUoOwquuAQytzrQGnzV+uWrWKIKnDsRqSK7aUwgrMH\n",
              "+7KPUruxcT6yJsSmMDbGOEPpyMMrbR+KZBEAAACvQZ6kRRE8EP8AAlTjUE/ttPVhFXN5QS7ySSVu\n",
              "WgBKk8OHnVRwAsE7UpkEAcli1QDS5M1YcB/VifKP5cr3pQeZBK1OvxsOGCJa8Sfsy7MiTaCFJcHQ\n",
              "wcuVObImI5o4VyBI9iWg1A3kgk2AxmMi01YKok5dUbUxsPyqsYg9OTSSuw5Mf75mnUxrCd0+vIpf\n",
              "QWq7rVjAqh0imPakKn8Kf35f/lWnYKR/QJQAfJqWYJicGQAAAGsBnsVqQ/8ABUEfikE/E+7DNCx5\n",
              "grv285QqDaAD9fb4XEBe69C+8LONQuNqCBiQD4fg5a1PtelaiLp3T6vccvJBxVww1Dcf6VCAJqWO\n",
              "f50brysic7uttH/Ap/Wxv1usvhZ39grH9F86i8w9oQAAAsZBmshJqEFomUwU8E///rUqgADfWxBe\n",
              "F40AL8grkN0DIi1Su8M2v5dkcZc/xMYLiMROSJjHuCE67di3e9BPjoLqEprpvbf4EHZE/XsIPKzZ\n",
              "GIOJKKDmTI0v8gOZ1oOg0H2Q0ZdOPDcWUkGCkPVV4SP0rWYw0xMUoa77YjdfD4i3PUxBzLeAPRk1\n",
              "FtzmjVoQ9BGq606BQBepKxn44RT1w5u/zH5Uila+1b22xReYTwb/krZihszPfpVa2LW5KQbZvMuM\n",
              "yROyDcfG+X7mmXN8iWQfQmz58cgyCzyhZItzg7n+oLzbe4uRYBsnoYByyEOsPQEsZxiydvAK7KQk\n",
              "4p4ZlCvdgnIMsIKjo2+hUXxEKN3XUOh6IUJs2mSkUg1rFKMDmXeX54J7DT8Tvq83F72Ma+8qgCG7\n",
              "4UFrtMBH/pQrZ4jkHe6Y85b648L60GdxlhjCBKCky2mJoBMiJ/XyYrAzdbnDID7t+2Gc/g2360JD\n",
              "L5s1SpK7l/YUTCz3JEAhBncDctxdeRF+jGJ05jjiqbkLQOSq830qRPLh8KYNSsY4iv4OtEE0IS3r\n",
              "Fq8BQdO0C3xltZ0NDC4PiR22qb8+xpYCFE8kJIfcSphE9hjCmVW1sWOmae09KuWnk32lMg6KcvcY\n",
              "EfVZ4K21GdW2v5vfDKrB4syBgBObjfOBZoLyZkx9hwJoYZXbgmz+nw0qPCaZ3zSh3vb1vZZbi9w0\n",
              "y5GKT4/mojODJaMO0n+z6oH/v1Xt/WO8aRzwPzLXXJDmJEovQuPHPFuUOoU6Zpx00MJyAEENhE/s\n",
              "mopONCXE7Np19kZ0apEh8lZAqKws7iuI+31n7DO+d2LXOjF9YzTKVbOCdnSsIWzMWwZ/twB6QdRb\n",
              "6y9ujH/Rhb0sWVAV7O+JjyG5CDluZNQ4+RS0uFhhyMfVuPbl2tI1G6DeCcLUpLtkP6V75SKEQw88\n",
              "IkTK4QAAAGUBnudqQ/8ABUF00ouPmxO0U7D8qv+7TLk0GIAWqYBbiOfjhJArbpnO/CxM51OtSCsP\n",
              "1tEhsqdjaY5+5vdQ+YPPmKdxif+RYVyuJnrd3wVeYzJsL/zZmjUlONGb6k81i+KcRkhiEAAAAuxB\n",
              "mupJ4QpSZTBSwT/+tSqAAN9bEF2NNACKKTDO7CNvx0TxglE+Nk1JyjSyPn6GD31qqgB//SLTsAD+\n",
              "Z1aH8Uq7uXC474TBgmbgXbekaN4iIYw7rMluvqnZ4H/uxy8IvMp4KfTaMM8kW602ng6byKtVYtLt\n",
              "5DNHIz0barEa3DVNKFbF08fkpWnqNZmfAPu92U1Kuoz9LW2ouug4SHBJfco/R37tLL1ewxmVzCeK\n",
              "HsTBzT6b9MuszzqVzeG/DY/FT0ddANMYUjJaQBpll7ihB+wSnDcO7sAGziWzhMK9TGw1Kj9Jhrwz\n",
              "x3v36P9Z9AchCEGNqJk2f1FoXdynPDRflzB3n86/HeTF46ij1TqR9JgPR7v/SIvrk+rjHwcmuMJ6\n",
              "Og9uLLWSGr5jmSB2dgTr3Pnp2lFqJTWOh8ARplbPw25MKxaeOSAkrbTbuQAnS5o4FJeaGsbrTRBI\n",
              "HXAo+5pq8Ya+B9QjxnUDRwGNDL1cqHt1tziRc/qmbo9fKcf1/lYF8ObUUsuYhASQpDEbaSm8A7/E\n",
              "Ln1fFWT0GXxudqgOoL1ZmueV7R4Sh2rlOPMzLx9ZEaTCKNHvecQ1vtYERGoudlGebS6+zPdSg1we\n",
              "oLNB7XJoeW3a+VIHdGNKenyfPps//zG76imTckmsMEEJlSBnC5JjizkqkkNl0/qP8j6Si2CgZVB7\n",
              "v0IcIcFmaP5CDMWZmwtr//LFLVm5QVTzsqgNhJcVteULmCUS0UExBP+wBEUIwayFPNO7VQ0UNaWA\n",
              "yZkYeMUv46qlnGENoWAQKHQc37VSfac7Qf7G1m/BscsQOi3kma1WT+BHryEM3bIqZ2UWQoOm0p/v\n",
              "5qlyBT94hSxBMDrdzM/L7OgdUai7fq323bc1xFb5SAXxuLmG4bvCt7rMBMdRp1v9hmFgGloK8DbX\n",
              "Wj7UCkvPlWqA9jpeLuSIn4ktmZrK+tcJCjYW9cDyNhC93rfgAX5wsK5refZRcCSi/nQoYJdWxWhh\n",
              "yrxdjYdgAAAAVAGfCWpD/wAFMtZxkLymrkpOFPXbPfCrThU14+kZ6Pm1Wzt9Olr8wefIh6BskpG+\n",
              "ZuXX681p1Nu4IPLavQWffMV/z99B5XrGIdjKcLTRHYQzG6TrXQAAA7tBmw1J4Q6JlMCCf/61KoAB\n",
              "vOZ4rEgAiIA0aZ4fWIwpe/gnvnQbBZntYrrLVvCDrhmSq/iCBtBX30hc54BaKjhmeoTx6BCymOUg\n",
              "QblMdHjJImWguTbEghkYEyT1u4eGur0OP4Zr9pKiqeesyW2lSfbIScblHtiNmr/IiQArlrvXhNba\n",
              "BdXiH3YMyoZwTglMCK1GUG24X5sleEFu3RyVDew7sUG0CgOlZWH5VXZHjBQziUQniHOc10jUotlO\n",
              "l+/FSPKRc8L9nEnBko4F35aS2nXd0fS2eF+ZM9kDGHibZgRYPVhcrTg3KdpiDo35oec9hZ6WAgDY\n",
              "p2QVzxcks0Pv5KRVuQE+FysLIEGi3KexerLAYE8Baj1o3SXtNoAE1kQgrRp67a6Guv8eAs9rIJZa\n",
              "lIPBpixbnWbfUu30Y/em16QBGOWn0dADIRPSY4U9v9lL8d/X3oGRKIHiYmMUX5mKAoG+SAPi8xeK\n",
              "1rS9e3lkMzUfd4HOTAufRyZdZUBOxn6CDHWjiOHxPRgN86aPedaCTo2oj1gPOH+Rgv4cXW7ANZJb\n",
              "GzBY3H3WvtGqlybB2l1abAeQvvBM2jboITSEicz4hzTpBwXpEiisfCv9dq+V+VgdQv+PdnHR6LCv\n",
              "DX9IZZT4nd9yCzdi8d3bKv7N9rf4VQC+mTI/8+OonbWAQMC7z9HXjheh3d1aG4pfjplEjm+FyGUV\n",
              "jSX04ssVqVFsrw0wQOh8I8jrYtz9gIGDNKwdVhR136EpxO6+L7yTxyfbH31/Nb/rpqpNwdvREHJI\n",
              "A//9oS02Z/COOMMsJXWn6X+h5jfGfT2bi4TxpSpV6aHdQrzG//Kqc/1Ajr+G9Zrw28TqiqEdvXo+\n",
              "UcoxrUEbdWtiS8dBPRS/XoxL0zf/ukpzvji3DgRNbtkRvVxRmPBzA84OrKXk80D/v8mSj1h9uUhw\n",
              "X3WCtTmNuCnITHO8twkGfl5odf/zJRu1Ikqbg92LhDsOOb7diUPRgCazAKF4YU+mb+rqTELJixka\n",
              "4YzAkB6krauG3uEdZCJ7wH7FKXyZQvZyttrXwtqoZStc1/BnwUroKzYRrfBNH9loFcvPpxU5rQEU\n",
              "7p9Ixib0eHeA3gegfCrR2Yo9GwLoVdaIouqBX88AJXpTQZl83hOiVYMdTt8YxgAWAm/lzjdiA7E9\n",
              "ATnUzbRSMijyAB8Gu5qVtug0aEPkagzpo4KaKwi9prAsRgJCwMobslYZZyVARD0N1G//aqKXjNKg\n",
              "8qaJBvVOhtVNroiCzRiA2vv0ullVCSbUUGJFAAAAekGfK0UVPBD/AAJU41a8J2E+uBmZ5P9I3QAm\n",
              "qR4H8hBhnGa8NIqaDDXW44g7bpgu/CbnnhK5do84kKLcifD+OfSRWHriQMP7qNKS1s0W3c25GX0c\n",
              "s9pN/BfgfM0f4GQvnPugo6syzJ6860VWtCwWOSTY9Vq7obgyHgnIAAAAWQGfTGpD/wAFQR/U3udC\n",
              "6r+RfthHqBmk4n+na7R5L6BOYASVjz8lICnGX69wVLB2pPkQWjSXZstDSfrA9YADTedBwSJvUfIL\n",
              "lOGqe0It9HuxpfXZHUx3vFLpAAADmEGbUEmoQWiZTAgn//61KoABvrYkvFVlgC/cOcmLB6XbjQs1\n",
              "exVNSUT5XNpJj2cw93s+qGHsFaNJynuP4sC5FkEERjHC3enhy3EKVElxuEl7hRU+J3CTBTK7Mapz\n",
              "Q8oRJGDSBtgVrrEdODYxtPZbCPRoAqKYB6ZjTpjy8VSrMjyolqFoITgzQdLhrYoVoewJmcU1OSJZ\n",
              "KK9lhWGlVoPwQtVObttFnnFdFziYCkWEwhROeTFz0CscD4M86EnbaiXGeZ3UuAMzoYd5oOlegNOg\n",
              "bCoyu9d5nvYTX/gVF7p3N2OO0CgIKiMTdUllEu1EoZ/EkhmkYI0zRf1tkQMVWrGbGQz+Wp1HRN2K\n",
              "QNljg72aG0v1TaBI+Azv17HYsgclXj3wqZUpffmpH9gLUAXVGnW/WqRouDu4z9WhtisPh5ziI3Vx\n",
              "ZlbzDRE7pNl0/1ci08mAAjrRRwcpLyv6PN+RuZvr0pLQ5YYBsJzubBoEJr2qcHMRc11TOCqcgbFN\n",
              "KasNQIH2aos9fe/TAqfoyEiQvrgbhYhN8sxPxBON3GZKysrbxv4lEEe54BPIbxN84q54VkQFIR7s\n",
              "OZZ0ZrgaY35UZ0rXeaOgMQu9Lkn/HSyy43WSRQ7FLyiQvbmQudyagHvfOPKr5On+U/mk3Z/hbk5x\n",
              "lTyigbGUC0fxa1Z4XaX63JnP40mFEHHeekK1fYGGdFsYiPNJHowHiCE6u4zLu8VMeXIJ12X7AhfQ\n",
              "c/tfPlrfumUn2XMQToRhiGD8MM9ilFRsm/H3E3ETUnxNwn0NdsFkxygGbXqO8I5YjQWdm2UFkohg\n",
              "8Vq1u/J5F/D+3J1Zg/SvtPguy2LTf6u0l8JqfQHdD7gj2G5NNmoXJBS/E4Z14wmtxAjf9TgqKkw9\n",
              "AAysENqRAvw3w4ABXzNRO/2xZGDtQmmAdllmrz4WfJtJB8Opz5IQTwA/64eOnIkAovDvfCx1jkOF\n",
              "FrIF6eSQfVwege+xd5ZoUZcWFCQ9sRPJDFVyJlav2ppYaL3tfM7MfdvQgqrc4Tv8oZqolpYqgl53\n",
              "/42VDTKWt162T3AnJ8+wn+EvO79B//kOVCkacl6X9VjgakLJB037gta+ZOwjZCyhyccMU3DwctIH\n",
              "U/jpKL/+6j6mIBXGo6cBWpVXlXLCTt9+9WyZqA6kM17A9yiEFSYv0BA0QYVXaA7KGmizgx1GcIl4\n",
              "xD6eJ5nWs7T88Bbr/E0Qv74q1w4XJjKedcGGsC2BAAAAZEGfbkURLBD/AAJa2y0V9whfrkidwNdV\n",
              "7XVMnIJRChbIoCsRICn9QHdVTmAzjrVg6+GOQALlnAIyA8Slk5O6lgzeMrnwfG0hh+8+f+Vooox4\n",
              "vBVl5mcASjokxhllLK+JW7APJzUAAABNAZ+PakP/AAVBH9TglHOjTWk+wUWR5dj3K73TbXRQqBd/\n",
              "X00A330bCy7SdeWQCt7/ukWhTSG5H1g10fVv0mjmIxdirztMx+VTal4XJP4AAAJdQZuSSahBbJlM\n",
              "FEwU//7WjLAAcdDtq++kLACk65ex452ok8o/1DFfd/h6KO0fI1FtsifIZdsUJgAcYZs1CzcAZhxe\n",
              "ux3TFuTCmpWiUQFs5yiAwsE61YsgyzWle9XSOmSzGxm0WQQpTSzIldwY3JoZX8yyg4VMgYSrSTaJ\n",
              "0tZv4O4ySTmjorqH80F5hFa74LFbwGuOtZDgTb5qgxj8o418SZlvoDcs/WOfvW/eY8fXx/q/ycSX\n",
              "HXvPZOyNL6hs4WvW+F2tzcUcVLmrn9vAnRX8gP+MIOsdOjhydXKYKYLHKKf0QbEEIWk203y4NKp4\n",
              "POUnv/kT8BTj/9X8QVE9zYvHsZiQL5VozwPIFVodtjum8Ik19tZjpwya0b1UGqPZws+x0uwQXP9P\n",
              "oevcWOs8Xdl7AjYnjlL0fJ8gz1R+nmabMR4rsSt1d2zU8Gj5tZkaqimNfeegXSnvEe4ngttX1Dbt\n",
              "jJWcC0PnJleb24jhsJOsKOc4PB51CewH6V195/QeU6cVY9RxmErMsxL/YVuojpKa09Qsvc099Q1B\n",
              "+78EKGKrYBTg68Tqxl8rq7tED777lDbaLoGMziQAs9agWvyybwoiXqc9+Tqte1KXtiYpfOBWIrYA\n",
              "FjaTbXEIfY2uc6bwCYDo8/oZM+ZyBhc0sZqo68LCRsFTEkixHFN+GjoHJTatCOmZPqfkn6YB2fTf\n",
              "3CaTGOjVlY/K78VlxEk1Ro+7LIMNCzPP04EUPrm6Sw7pHK9jH6H9aCMD+klHviJbOrYZbvEfIbOe\n",
              "n/3VAcBknQFw1OU2w8B19rCW5ZtEsDvn9CgAAAA/AZ+xakP/AAVBdOlU5fKa7WhzTlNsPf4VN+wV\n",
              "ejdoCoLys7QzkbDxDzvfQ208bZXLZTPbbl0FSiqJDtbFBtfBAAADV0GbtknhClJlMCCn//7WjLAA\n",
              "46KQVDJnAAn6Y85zbZMuSO2rlE9t9qsnsw5KJjAh9no/okxfehlWXTW5YHjZ/a7u94ahlZ9Dx2ej\n",
              "th00xR9Qv3vygfYEkzPdMgfQ513+e75YOxfziN0QSctLSSY1O19/gtSXloxSqFYlG0EyLOkYqoOO\n",
              "udQLBnlG4Dt8lYelz4eAur/UVDDqix6I10RPXB5HYkdCPLVXih8IpGCOsZQB0gKCv/KT6BaeRwWa\n",
              "wxyMy5VoaSc5dYY4VFNpPSsrrttTXJd63l6xrZYqEg1nlE0KNMI/E8qAvUALBSOBn9Ld3p3NIZmf\n",
              "kvQEoqOr0I5XIjn5yB60+J+N932CFz9kIPIVtpSKVWaWJTUTU3rMddZX/PqXLDcADCgzoZk7wpWH\n",
              "EKEy0XYJ2fesg+svPiEQmzccnHSjPHCe/PlWxIDyO68Sf62Sxm+O1SvnvKFg8dDEC7q95O+vFPa4\n",
              "/weo3MCNYC1ShkUohwxiVf6foXO5JpU8UXOBOOD1Aw3SGj/ijTpf/3hFbNCvTsA7U866MJQEdAJ1\n",
              "qaB18ZoBxfXvQtP3KxK1jej6pYoUKuUNxcgd+ZjRo3qcvjuUpBVWXTK2PoMlGRg9ITcmvAPrbxYL\n",
              "op32T5ryheOuA/DF3QG/clLTLfa+WKx/tOv5fRvoDqXo8RaQyzKXFS8JjnZfvBYnDsOm4FxwAf2g\n",
              "fneviTyyqFrz6ZZoliqeAvimML+myJnbuIyPPYKrKX7HUQUM13zQr+cWjLJfCusnsUWYJwjz6kID\n",
              "3JfOPo2WXscdAQkpQNXlPRYjWTdfWdBs5m3/9OKScl42m0oe6PuI/JdxuruuanrmaBsvSwm/+voA\n",
              "KF6YGujJoCbA8YZ50R8ltqYVBNJVVz0Hcbctxr+rx5/B2vtu5ps/YWRrnCJlxznjY+fmB0qye1l/\n",
              "paDIK7LFsc00iAWTUO+QTWP/Mcv1rXTWnemf/1Ev+4a6m7M6Ovqh/CR34EKR8tFkCS1JzgLmNFuU\n",
              "Vi8hDkWeDWlWKZFGTAe54kPAvZTtxeFiNlv8NRJ1gqrGh9XHf15c5PVz30vUCgYAWqfCvBa4O0fc\n",
              "Ehkez/JUM0ZlAic6ouwwrWe5xfce3j3GZl8hQpPyZMGi5TlV0nXxUAAAAGxBn9RFNEwQ/wAESOQw\n",
              "PgF1r316As6aXRiGIPyCXJc7D/xZwhGVrq1ugMKAEFrSjFTXsgpgQALpuSXGboe6NShYYO9sVeVK\n",
              "jJxXGh1zyjEUgywm8dDMbeAdfYrtHPu4j8C3xhI+KlNGIG8KCkAAAABAAZ/zdEP/AAmsZp0eLkpp\n",
              "cdsCyJRK7ygA4mhmXXfVHybAVceEGIRcPxAbCLALchjjPRAHDJVDQah1BfC1KWx8PQAAAD0Bn/Vq\n",
              "Q/8ACZKigXHEKuw8P7RnG/EaQ5jBQGl8aGLqqo92S4ZJFiP95wqyOlmITFWA5MYT5ATvVlPwuppI\n",
              "AAADS0Gb+kmoQWiZTAgp//7WjLAA48dBaSwA08z2axL9u6BQ/P9XfQ/IvPJJzF1bPWvHpRVFJoc1\n",
              "5fs23hWrjz8xBvtgoLCYa4Adi46QlbssxnpYIMSt2zNcofPCEq1IMh8CDFLi6eEAY2FDtf8KxZTx\n",
              "unaSEH++kdnFfEO+199GtJpaTMbo+DD8VDOhPw7+PGOIF5yDQEA/ufKj4OgAHJGgc4YB8FW2Z3ws\n",
              "aBwG/6gW2P5rj3E1XxuQ1JXvG+uJE3u5a07mMCHaVJC7YMg6Ga6SzaAEoZmMu6V74ICOV/JeAncY\n",
              "WT1EpbHM4P5Q6E9hJdhNsXjg6X7gVt/UnunGAg2+BjrYfjmNF0tYJwaK7RJM5Zkvb6sDmeOUTQ+5\n",
              "v9WbvwYXvVydwa6UhyRCvId6X1ooeXLCBMoUGM2D+hukJw9PBFMigIegzOhWZ6m7pqlddfr8akNF\n",
              "xsA9ORiv+8knFfrE5C8L2fMsBY3TWmTe/nivvf0otbTpItSQiToVLXRaAwHtV1lV/raLis+nUSoS\n",
              "IAiyKHFLd7q+gEKc0eNb/YdbPmmyMGfPGB6z0359dkNlz9c5zp7SYqLBVL3tk09iYhd5cuDRv6vc\n",
              "M16qYModaqnZI2bSZkTBCK6z4h+KL5EbTLU33nBxo3kkQuVgkeFd3LVSo5Y3F+dMpoppweZCgHUN\n",
              "D8uMGMTojm8BckEPBCVb02+RNBirjx7k+yCPd1nX/M7/oPbBHrEEd4XozlryfkkF0Rq3ijk9/87E\n",
              "mzkdWYUu2I6F9I9FBtTWGpi8lGz8FwyLetgnz7io69kiBjx7f2QI/Vskw3VNlcfUc41z5WtQ61mf\n",
              "MXpiDQhcYYUd+7R9kHskZngjmfSXW5P1baaacKkMi76+7ZIGuIJWd5+IrADqYYPBtDkdGnJ4/RQK\n",
              "OKVUaZvSZyAOZwWa1ttsxodS9spyV1SB1vJw1fvPF6fOxk+CYfdDJZImWUG34vB2v6vW2Aj2G9pn\n",
              "RKl5PYpl3O/diHbk1u568YMIUvIOTsVM6Pnn9OwktvNdR9UhzG+AYbg3rK9TFSU+TjVVxcOcnceG\n",
              "mqKzAF86y3+PnnBxWCReccY2SKROMluYm5f+WIAg8U6llKQFWeizOHoiTrXzBGDGvwAAAHtBnhhF\n",
              "ESwQ/wAEU5jO7yejI4GAKwPweSXTIK2euk43tI7Qy2N/kW0Mm1DMT/QOLnmUHN4NRxf7TY8lYyZs\n",
              "ndh80G/97oYw/GHi4MdiYHY+Y5b+q198roduIbYj+pf4T7LD5w86hPQG/xK5LH+Ch9p641B0zvEA\n",
              "w0in6EEAAABEAZ43dEP/AAmqGoyKLkdSO83cXn0VKHYDXbOWErs+3b/ozEpuRuUnoYPoqJuWxTPa\n",
              "iwaFRzmJZElz9Xqq/IFKrRnpPi4AAABMAZ45akP/AAmp223l7HmJFijhS2ItEuOyNNr+we9b7uoO\n",
              "ZkmUe4l5PTvpofj84OUJOg6sxLA5W16js7YKDfP1mHgt/6B7FQ+QBWM0bQAAArdBmj5JqEFsmUwI\n",
              "Kf/+1oywAOOh23p4wNLACN6iGfFzQt9Maj64Q470tMcg63zM/roCypXLYp/RPLdyM5Kxs1E0bxqB\n",
              "Afqo1OsMg/oc3Jp9ZzQqWrRVfSq/8zQ91JZcQAwAXTL0cqoRBKU9Bb59ZcOJ/lXH6wT/MEKiL3xF\n",
              "UyfWRR32t4iKwbE8Cw3YiDSmvETcXNOUQuKQI4WwMGZB2Gb0gEpd4IbZ69qBWvsooXbecncSnUY9\n",
              "zBU4RCc0dY5sgiVvnxa1NS0mVyK/IIAWRW0IjSf5V+OsDD29E7kKYc3PHNfl4gtlLSgsm+9qZH7j\n",
              "VVpgZtuJI3pxF8mJwt9CYLxaL4pq6iNfzUZ7r6rTMpmYASIYg1cutA+Ht+a4WFAlZn7YnG1y0JKT\n",
              "z4D0zARGW+hLs/u1iZn5Ia7MMNFBtXHkl5JFQM/5+d2ZTSr1iszpeLDCJugEiPS4m24JBjl3dWJf\n",
              "4usQA9Qb4hAjnDOZ/bwOANXEK6Kepg2f59YeHhqWimnx5RR1aRMG6nOW5Sw1H7qwO6hejQetoYFE\n",
              "w6KwCvlWe89viaFgoCtXPbx/IstruxgtYwLTXtDBFR/fi455faNdHEfTUFD/NKfCufqjOSrabE9R\n",
              "O6hRcF2TnFQM+U7TBf6WUgdsMrUFgQOHn0L8O9vqEPog55qut9IW7qNghE1/9G8dMVd80PRS3Szr\n",
              "GlWdZUhYT1UXESyNLriilE6pzFXm3PNkdTD2yWzgtNrLTG5Iegc4DT5CAj++ew8hEXvmWNXBF8Eu\n",
              "vKR2IxMGJiyjWXsCNsYezL26hxM2NPr/0lyvxkzsnYQzWKs1bivLz31IDLZ3ouBXwaTKlbNx6oIO\n",
              "NKTo24g7KzjTM4Mm8WBw58kSBc4CPaat8yNolUAFOo7o3C/enj0u87QCwgvpt1gKktJAc6UcX/Tq\n",
              "oAAAAHBBnlxFFSwQ/wAEUUPLGVxa+hmBwwRIkEVzJ8dCZLO0Yn2HrvHJtHqvf93aHh5KUq8gHX3A\n",
              "C0fL7XTXVKNO01ZrqXvpqjRKLryB/F5xVqvWFoXcmA1GfyZclztiMx+wRjyLOdLXSAYnhOxipns3\n",
              "ZVVBAAAAXQGee3RD/wAJrLW7vQxJzbJZ2BZN2Kk/CdezlhURFrjWw947zDaANaWAFbFEbnMrvGeB\n",
              "aWnD/g8oFkjCwyF0hVg+Z384+xPlph3JQktX+T2ry0islSfMtYc5p5xrUwAAADsBnn1qQ/8ACau+\n",
              "nlQDA2PKibCuWjkKucBCppk6jmCDWaphiLG5alKNLJgBhVgdvPAfnULbMNHrQFvBqQAAAxhBmmJJ\n",
              "qEFsmUwIKf/+1oywAcdbWl93ABSE/wAxNApzEjm70PgcpQdNUpusR8fs0kJBtWZ+tyWTjpS0dhQg\n",
              "xnyzENLM5bLWftZpT4bRmM+S45QsCRW9WN36ZVc+zhAlsjWyqlz38/lEH11cjodaoiVqzuz3IyUk\n",
              "CefWOCzJspeNTErvjW52C/QtwzcmDYIqHa98+7W82weimIh9/TdOWSW92VcuLUYMr/gKetCAK428\n",
              "CFSuIaLVusxamp5F77EMcnkSiSf7zSqX1VMwm/O+sRs718PE9nQ/uDUiVPnHa8UyiFYK2dvhYQe7\n",
              "oK12ryZIhVAd2dv1PUBdu6LFr+FKk/bqd0Kfh8f5UVZOlSj5kql36Pj5TmoHW+sLcRTiR13hnIn7\n",
              "kdtdMGge/GE56jm19s5St2/WtGIcyjXiAtTlFfkC6quVy0DhV3bKzTba59Y2dbJ6H3a41juf2uzQ\n",
              "TcIJFe5/IQ06y4rnylRRCja1Di5IubKuYxkJN4tD5gxsBJ+WCncpW6dOnbtj+kpeglHM55Q5Mu0v\n",
              "H5Tl5lAtWQb7XyRJLwK8TpZAX7+hwF93Vo2KGYFMWkispGuljLo6CfDRO7YzXzM+QYEmQx9xKtCZ\n",
              "GdWlJc3VArEnr4L4SWJeI5aclUlU/qM+O8onQDviaDzwvduwVfLDWqhJtFux+G0G3Yx4rgrRPZga\n",
              "/2qaKMOm89uZeHduKdRNnAl//T8JQ7sttUSzdbb7DekPBL+UwYLC8lYz7oG/RPpnfjAlpqwRCSSW\n",
              "j1Bav/9PhI6vOrg88JgBXGYT/YA/WJRywitGWGH/CQbox+2Rb4X8O6L3jk++QS2VIX//Lb1YFbNf\n",
              "h+MN0ZTFmxcyIpIEmQVuHAFUxNUM3MgzdeGDyGG3RVSxOzBBn72pcoEaScMSuF7yU3Ny489fXiXR\n",
              "Kez++Q3C/K5i5UkZdt9uZg4NUn71hcckMCOwF7KNarX3yyXPaDyS9k3enPijR3qCgQtt892gH+Xe\n",
              "eN8cY1aYOOIdiyN9boYhcwCTJrOWnhxY5sbq/2z5DwVY7z1wNLXusq+EF5V4mwoAAAB8QZ6ARRUs\n",
              "EP8ACKp9JoQg7yqW6habQ/wOZ39jcYNkWKTiuw++JXTDFBADDbKDUPGRnwNOoqhcLP5c44OANbac\n",
              "Lxj/kh4TskZVu9pwq4SjRvt60mzeWy9I1CEVT/w6qRkVx7x9qtH7X43MCJQRM76T1QTidha6HqcN\n",
              "cyDNmQAAAEsBnr90Q/8AE1jM5tZUJjBYlpCp67wWZl+C9jbGPX9GG6+zRHSbBk5d9ta5V22D2rNE\n",
              "z5wc7VRGMQ8G2NfXphR4z1NKJ5wBWlua2FwAAAB4AZ6hakP/ABNXfUDg248Yi4u++sfOUiYouJic\n",
              "VXks1ZcesjcAcTHLHc0ACawjXfxyfjFNhoMVKJLmXAJYaBHJXG2n4IrTdyWQxh6xMtv9iml86Cvq\n",
              "E82EIhpk0ktf3V/KqdaCZcOHupOyDXZr32v3riOON1wpAqufAAADOkGapkmoQWyZTAgp//7WjLAB\n",
              "ya7kKuAE5MArTYEnojyROsag0cKlgT8MtGvHpsjCVhX2inNcsNREIGK/vNUfuYkR40bHHGjMKEXe\n",
              "P80bEe6G9O9cjHNFRR9NuBSUe7uyhb+ojMqaT5rLbcBXFIMf2VebZk6bGoHMPz9u0Nz+0hKpgey6\n",
              "zn3rQ5KnLDIK3kvAy4g1kurmyZRUrHjNhDyyAo9iCCvE167EGqPHWaC6tDr50IkdPtXmPUYedDn4\n",
              "pEbiM1VS8ExZQ7Tb/CnF+rkN/Ofq2UG3QTYZrfoJ07ylXKFXz4YQfmL9Erfr8PnLomBGzXpp5mmo\n",
              "41Km0MGmiJ0rMtB1JBL4fhH0ofPcaUw/nzSpT5BE4Tu9ByB4dqJ/WEno2VKXNK0MnY/Ogj5PXx99\n",
              "j+LXmEDJo8RwF5YuzJCES+soW6ELZtVSAPlLY3rQBukwmeR2o9q9AsM5mO+zKMdEfPWresQ7ia2u\n",
              "4hv9EE/2QFOlK7kCOSPdPdH3NFZM2JIllg/A8fElMXlpm9kV1hnApCy3P9dbBF4CNBfTUDbhBpif\n",
              "qLsfST8QuZGwqRev+MSiTZB8UCs3BWiYspy/PBaHO3aJ+1BEmCQUJ8OPpa6LO1eKe9JhIkCZ79Oy\n",
              "Z0/pspezbYy0SJ6iMJnSCJqoSmx4lPN+7lsFKtJtyncBN5qLhL4rJOJiFhzRgGOKxuWkW3FYlDgR\n",
              "7Kxgp8zuS/1pUIkfN8NcqgxEaERi/GgyOCW0pPBY09EG6dpQ6AO+2Mz3qStdIkHJhuhv6ENpaG/M\n",
              "58uQlt/WKzuaJwOQJlGEuYjO8Jlw3sqllQi1m+BsFRdjLzXBae7nv5TyTJM0+2KwNwVFJwt4om54\n",
              "XNOnCBLjU7EkkWFcW7hLlVLCMn0Q5bANKJF0v0bQEas/mPXaWHP5ZfzC/9KpyzORA3FIJbZMMdvZ\n",
              "Q/I5zuXAkPEoEwBgQfq0MNOvINbcrkuCGrjoaxBkGAjSZXcDsQUBfribEguJRS9/sc4JzMPDOogZ\n",
              "Dry7gRvp68pSPvItGUWDfZMqjv+8Vb1XAWok+AZd5cEH/u4gvjCbB8TZUNadPGyWOgOJLSCmtTWu\n",
              "5HsJXwczQZNnIZEAAAB6QZ7ERRUsEP8ACKOakbuB42ZKNmLX8DMq6frU+JqPu32VcaLZthSXIlIQ\n",
              "SxnB+GkdauUeeADVA0wNpN6T3M/QRJxym36itVKK+S1GBPm7vqX2S75LtLY9O+NbqfwvP4Q7/HcO\n",
              "Rca0t5dXSte0wjHUkLG3e5J8KnBB7ikAAABMAZ7jdEP/ABNZd0XgBxl9Kc89z8Ki7G8KpGppPvsQ\n",
              "6umsuuhB/sGzdnqHB/1z/KaT+ULlfR94BiK9GZ/K9sciRI/9uDTAbI40gUgvoQAAAC8BnuVqQ/8A\n",
              "E1eFf4pXSquXDbZ+nlw1q3/MPr1DUzTsCgG7nu939edo5bUIrADjgQAAAvpBmupJqEFsmUwIKf/+\n",
              "1oywAcm1hkeRuwAczefKEcRuBuLviTG/lgD+KEf+Ra3XJ7ObX1CFa3m5Zm6LF6TPv2ZC9KeKc81H\n",
              "2qYc+8bSCwMA45BdTGjDngZ+DMwol9zXo2TosCte+NkcygOqG7QgDcuESuOqh5mtwRFSeAEsXzCu\n",
              "4PujXB/osPiHYwnopLYk9FkdqypVD9mtxq2+UISgdOpPEwfjU4+E3u57Eha+F1xGFNaxpUDnErYQ\n",
              "wc6HXPTfwXI3bqBbTO1FfAV249WtsVh9AtG0amgVgHdS3TkEhb+ybkMXvMaGhMPQqJX7l/ZYalJL\n",
              "ZbCu/f7RvwyQcyr6VCZDM7BGKKD/jqC0OhHnD/MjmwiSDZMTwKX5DCaKlDMrBiliCG34qQIAf7xp\n",
              "DmzPXyVIJbEFyhbRmpirorGadfbH/Hq3EjbVvh5suR7Yzk0Nad3+13y3qnL6WEyfo+tp0aSfX/00\n",
              "2WJR5Gx9ICEt2RekNsonw+Lwjrb5dcVYDQE884AUnnfRFXQa2rqEEqOMghx/kg4huX1Wmjz4JIIR\n",
              "go0c+coNPFEio4nvvYm6EEedFgut2bqyrMON5ZfcO1ZFy7vCX0R0+zA55JZshvGffSj/Oa3FQx8U\n",
              "U7gs90t7AbW5kw0aKvcNgOhac+3DWr72ybWz8VOVImcBm8UurdTBd4YmVaLfx66Ha91mHIL42arO\n",
              "/tv5x9g22voRmJUb0yKkgAuXil5Nrmc7D4w6frijOWm64LcCw5kj8lJskIJTDNj/gXevuV/BCAuT\n",
              "++U9Yybgs5WpMO32FBa+qWiG8x9y/ycD780ClwrE4QEMtIeV+BDnGqlu/u3NJZ5Gevwm3vsdoOUQ\n",
              "PcF58jXuMwq/KeXMr7axKME1M2zh1bz5smfH/tAp9qKflpOT3LyHFRfgfkfCQI3teK/XNlfyPb0z\n",
              "nzvjjCC46Su+UeMiVl1ZsxS7SGDuHFgFEpFxw/Y9ihKiA/9uYXfMJQFqo334LpmkCuZZk3XirnQV\n",
              "/ermQ308vREAAABpQZ8IRRUsEP8ACKsCm1pf8QgAL2bZt4HEyUMNj83I2a0SoQn3fQU1+r4WGoWE\n",
              "QuIZuywVux5S1v9ZqI77TZeOyexN6maZgdBu9Sh/iX8H88dRBkVBXx/0o0KmghEy6EWhpV5WAHl4\n",
              "kIqAAAAAPQGfJ3RD/wATVDVvL2mAjSAUnhnkLeYW/GMg4J33i98xQKmQEq4p9M4kuc0C9gOebu/B\n",
              "PgEfwuhJPzIoevAAAABgAZ8pakP/ABNQY3QOF+W9D+seoa7NbjEsq4lkALZdQIFHBECPUx9yqmp9\n",
              "HL4iztlovip98iw6FUZMbOZVF7HcWQCelu8rSAyM8faxGZO4NkxQo7TUghVQhr6dvetsIaa/AAAC\n",
              "2UGbLkmoQWyZTAgp//7WjLABx465S7ABXCOhN2YoG7hteD57mmFll/gY1hEQ+zN8vlw4+cVYshA1\n",
              "g2DsXrmR0Wa2WaPxSCPuLHF+QQ7Qt5oOP6eum0Qbp7ZWsXy6S+WLoDMCkEHGUGtP407N5d7CcFic\n",
              "NqEHsF+bQFZOr7oeTIcRBdM42hMaNFgoWxD/az/ywcERSa3Z1tAqrRTXC7DZ+GVsQgYWNwdlOAIa\n",
              "/K4Ko9I+AO0kUJ9oDxGX09jEx5HNX5Sllx75jxLp5glx+jhOphLuCpcuL7z+HUxIc3FwRj91yYql\n",
              "90gY6CRlTRWP8gne0D31oEKeIADlOoQHMUjzOMeBBT6r/5/6yEUN5nugCI+GpUGBnQs6ZbkLwugZ\n",
              "oSVOeK/940cyUFMUqA9tb7L02yCDxrG8x1prh4W6Oo+PNgTh9ufnahqUoof5iz7RvYmnd5sCDwy+\n",
              "LxyWta/d5xhLUP2BbeMnVpziPLxmfjhXP7DkaOqyz8Izwt5RBOabTuW49dDHMOl/BvNmTbnnGCHI\n",
              "8y60d62R/xleBPfYLcazfpQ/3TqEDukGgsMU2dnatyjk+XkoCnEFQmuuGJE+USWpDmH8h2KFmaqB\n",
              "eCLwOdYDQkLyNc6eJ01pmRo+S+5ggNTszObNzJntmB03RQikY7ukp249pBU5S7UIKxCqx0rGXPTu\n",
              "nV+mEonTmP+stj9/z1EyoSNFko7kf836y0KWcQGhwAnqNuh4RmuXS3vvXUKaDTByqUw71Ry1OkCE\n",
              "0GqvJrqdWMomd+XFxneZ5NGcmeD6lVos/GFRIELU4SMQfS8rMXWXduXXUrnsy/iVE5LAulptXNdK\n",
              "QLKCErGq7z42TR6Fq2sGYM4L+JP2MwHkyCwmXRwlnof0L1wWWEEOadw3NVb7rdDxvx15qXAbs9/g\n",
              "Fspt4TfEKIOYhMVyZzQk4GwbIJahD6/GeOChGHecaULtqdDDPqKWvSHzyEmwNAAAAHBBn0xFFSwQ\n",
              "/wAIqoIGS83FdAEMOE3phHz3emDlLz50hC7aSY4nNf5APPntrMA0cJyUfIzp9kTVsUZQU6E5tBRI\n",
              "/zKh9RSyEwdY0Jp3+LtWHLkoxTE6Yi8n6hl61FAbmJ/Bt9zEeSA+OW+mB/wKS6K2AAAAOwGfa3RD\n",
              "/wATVKdHhPpYgtnSw+CR/CWaaAdNBeef7bWQDYtQli8+wRE1pRZg/61l2qA/iPp+/Hi78toRAAAA\n",
              "MgGfbWpD/wATWItcFSbb0u9TUqBkafWNeqyGezdN6wh19T5V9rRnDOHVa6qUZkYBIQk5AAAC+0Gb\n",
              "ckmoQWyZTAgp//7WjLAByNcctiAB7OwOjRJ8b2ouGkcL4B0O9ZXXIksd2rW2QkRQNhBJjYL0uloj\n",
              "sAikg1RDONryk1oW41ipXyH27rG5cuqtxDz68pSomPt10rdvh44UUcJyrV+4tdrNZoCwAf8Q7CiJ\n",
              "LynLrmdRwWs8lCLIfMErg2yxg+oyUcqYhNI/QdpqmG+pB7U5FAFkjcrGTaMF4z15Ttx9r4+dJxMA\n",
              "LwZphYEx1X23z7myVvlpxMcj3GkBeDEZkJFTG8bC7fWudLX29KaGqmY4xNglocokF/wfdlPpbVcI\n",
              "K20Dqarf2nLYXtN21bXkNvB4Xsij3wisvVFOJNXTiw95Z5cam7r1oU6d6D0qwQvLQSUgrvqKO9Jy\n",
              "QSsUMGO87EoxKycAEmMJ0ZIFDXftzWdu/ufe1EIbrNp5yNqq1EWwaQL6hDB5AAtDNQamHgq2zHpr\n",
              "9So95D6qariNRzJCb0ZWKOD3DvXsMNDVhPRZurwr2S2cdNuf+omXYX5BfIX5rZyPXv5VOkrjHz3K\n",
              "C4CUFA6JppHeb0oxUkG2pB65Ug/6ftoZuPgtVYfmW3Sln7nKVV47nYR9ZfvcS2r+jVwKmAhA5Yr3\n",
              "bPbxtBMmLNy98O2qNYUGjZ8/YO58owy/0QeMdMqobiXNM97JOdW9ndrZLMVYvZR8ron+rQaFU3ed\n",
              "3Dod3OovAIOsVIKij95j6eAK3Xthx7rshhWO2Wg7SEOdBOQ6vkVQ33LjyogKGGUB1wZ7iUm2TUKR\n",
              "z93CmAJWSskiYkNF1++CnHVTx+BxMGJ1R1iiNiMOIgtaNOWm/C7KRFu//8/l4SWRRmZFozlajk2O\n",
              "Y/HDxL4U+imCFQLYFBHllhYkYA0x6Vg42afF9Ly2Kcj72NEH9OJS3lzt1q9hyJDzS0Ok9Vwt9iqj\n",
              "K/MR8oymoPfKpu2GIsM6TB91K7XbASCIdv/CNsXNyyBvXVtT/I2d2dTWu3zBQ+IOrhb7zGWhs/Xh\n",
              "UlMcgAAQf6TEuR1aosEnNo6r9mEAAABeQZ+QRRUsEP8ACJ8wk+tC4zyalWNFsbIGe+1astppm3iS\n",
              "YABamFfN4omMQMxYknr/qH3gRC9cqKziSOMbvALCn6L+fD/YQyCsSxgIiFPoGA1+FbYeJs9N3m66\n",
              "RoMDBgAAAEQBn690Q/8AE1lxEYiVWEoARbjBzH8+KJcNDR2BYRaWA7IkBJJMNsXAiP4PFJd/10c9\n",
              "P6UbCKfh/ndjfxAfLe4+G73LUAAAAEQBn7FqQ/8AE1iLXBUnJuvOc5o7eM60xgMpWGmJDWBpCa8B\n",
              "JD3pM2GZmdVB98KVLPAagHX08lXJMGFKBk2PSLkbIdD/gQAAAvpBm7ZJqEFsmUwIKf/+1oywAcfc\n",
              "CnNtgAgnxTa48ijceGeZMX1aku+TwU3E0uw3shiHpTXortSYQ7UjDXu05964+IA1IFHlC3NKA8ma\n",
              "hdmOEK+2MIU8bRat2s8Glrmtjeabh682r220Kb2LmoaUmSzqi7NI9bMfMqp402bwGZS8PEoaOc9Z\n",
              "tnF+bVa374MpY+Ho7g/yxYze3Xt7Qt/mc+xr6OyVx1ffnlh4gZ5MC5UUWT2lPPGhc9ibTJGsnwzh\n",
              "+ZcqfvBWpC6sPUk68QL/w+SgGWFh9uVvKGkelS7TFQ0pNi3MjziXikHeCUAcV8zLKWUzX0IFVq//\n",
              "uQNG6S3evJHjM4XedZYEpg4oKfWXHGH3A6SxoIgFJ9iiwxMLMFI5kymqIBHpdL4tx33pbbcvKAXh\n",
              "nm61pXURVIyO5k5WGKilpwCCYgHLLppbOW8gd6WJvDCzWwMv4b172+WiY3zNxjn2ApiDPlnqGnhW\n",
              "fKhT+jvTctP2ZU0zs74XrA2BNtvI8DR25n6j0KXAxk9NFqF4/ZoqqgPmzZtzeBTSS3wf3pHnnK4t\n",
              "vUMk3Lw5ZncLMrezxYKudBQ7IgisJ4rPY4umDyVaufoIZ0p2VXfvBrZH6/6t/cRTmRoo1NQGIlwG\n",
              "CwFmAvppxt+PQuYlECNof4pI5pxmBQV1PYFibmT2mhtWkXl7cx81BbKpH/3wJiyjH+CNihHTAeMc\n",
              "RY+OuH2vM1/hvy3XCLpXLH+hofzObgFHvNs/g2ci3xiImqQC/I7/qJXYWQxiedUaroD/127ZFDWL\n",
              "QRx4itXzklzBx71ImQZ4G2vNvGcHDkQh3q3qKbuGAQCvhoAJu0IAqrkP7aT0lGH6S1v9hrutbUu+\n",
              "N4+wvWAN2uAd8r4+8Y7BiCB4x/UB+QZo6Lyh0/nqFNp0jmmv0bsSPvev076Vx94it4ga86a6QthA\n",
              "i8/SA0wkpHsnslwnezXrwwh9ANma+Nnhf2UY7EMr0yEwyGQYbtugbhuIesIrmKNmiFE8/NgV2Py3\n",
              "zoAAAABnQZ/URRUsEP8ACKY2Jkkk/Sf2s6ROdOB6rg1XBqSlV3xkVp/8pY0RAVVABw7Yv9wHQmbU\n",
              "+SsHgjL+F3RpJXhTGPPJGUMlxl/5Bs4qvtgVottKESEzgjiig1BZL1UVNglL4bn4Ug5mQAAAAEcB\n",
              "n/N0Q/8AEtXK+ZJgKkxIRiqB1g212Auzbd5f3VNFZ2d3LOABO0ITORcxrfsx6YDXmQlC3/0OaRMf\n",
              "LMHh4gkLXJ3cBoQ6IQAAAC0Bn/VqQ/8AE1eO8WmYoWB6uGy1vN5gE0QojOketybInTRD/qxccAAi\n",
              "5juqQfEAAAKsQZv6SahBbJlMCCn//taMsAORrq261MlTj+RQADaGXjOJNTq1Jmjy+M/MRNL2b1dc\n",
              "42IOa35wmrhTqg2gujyi47rlyxPNrXafS1LV0AhazoLfKQK0ip5dniBZuzLlCdpOdKtIqZMF5WTT\n",
              "KPkPNsupSXXg6QxutMm0yjpUIbp6fvKLCOM9wnD1aOWPW6WP46bGtsmdtmVRp00hFCddaUs9TfnC\n",
              "EnF6hh4QU3WAatO9aXp5UYrYwZK7Epg50yr1vvHwZ1fGX7av6FSBCCR74LLSsyvyfZMDaMT9nq3I\n",
              "6Kh+eoyZSAJKfutx6T65vJf+AM37PkFVCst9TVZa+MJi0T7cCx98zcqfVg30MKL4Zm1DUD4lBzJi\n",
              "HNoJ/9lPC5hZS9zEMWlAhVH1ISma7/07Hyoc/WdhIPVF75MOfHjky3MLWVzuCWOe+AgIf45rgv3q\n",
              "6yW56jWGxP7BK9Ag5ZcieqV1EmajiArmd0dOPevFDwoXZqHLSdWOZnxU+4W01Wm8Q8v7zB8Pcs92\n",
              "xujAs9x8DxeLu+9XUabY+mLJsu6Lf189K2OHcFnsUGlsgXZVhoMD8YDRA3augYo2tQAlceN5oUdQ\n",
              "D4M0WBQSQm9E4mJmKdCM5Y4S5cHebnJtoFKmTxknxR6vCglWcaXPHnhtbNccWR88YZtKScXQF7EY\n",
              "YpbiGCMilVqb184zRg51tIsTV7n/3/fmR/jE89TSikr9mJThlwFdMJSl08vNUp0jXrwPWaVzQiAQ\n",
              "E+rvELWQc2SGS1OFOC2pfSIklSDbKEnPEXxf9cVuoYjB524Y7GMtnnB3wcWX2dk4g6eZc5jgvque\n",
              "ggnP8l3lnzLIoO9NKe7OgoFfoy4IWevJmkYU+9tTy4kGf+/0V1qbkPSKrZOFwSFxfKbdZ8ZMTLTS\n",
              "uWb0ufYFdSoFAAAAY0GeGEUVLBD/ABFWYreCN+MTANtBh1Bz6onhWeWy/bwFhAhF2AgBZ0EevJIj\n",
              "loMjzfYQ5itBWz+gAgcgH0Yt67TChjhY7Np8k2lPfST40fDMqhdZl6ushl6RzbvyLnQutRcKSQAA\n",
              "ADoBnjd0Q/8AJrLtlRDqGwKZtc8MqW1uJIrPx30iXzj/SOHncXKNLweSMigd/T68C8KgD9B/SZEC\n",
              "ASG7AAAASgGeOWpD/wAmrqToj93vdS1pFzWRHdOFfDmhj/g4ssnXEtP4nQKfD7aIQp2bMAHWMVTN\n",
              "qQipySqhVnPAVLEcHQrXhR1sONTiAMFZAAACz0GaPkmoQWyZTAgp//7WjLADka44juABmpJdvnBY\n",
              "CouEGMWaGAjxybDhkjQ+GM625V7mPeOE3RaCnAzG76sQvmKKSOys4TU/ITZ348/4bX4uEJc+/qvo\n",
              "zmF8f9S7I0rC5nfxY594ijdVGAEYYvmz5+LSmRQZ1gr4K0nNqiWyZ8aH9fvVFdzoIDr0Ea2uqVU/\n",
              "Nj+3YHY86Q+5sOV/aE7CUnb2HYgC+QtIsLN7JxovxES6Q4fvgWJSYRx2pXPTNul/hVGX+/S9LpwE\n",
              "wdH2D58cvyaiS/ndmX6joApntnoaffgMwFAPs0c7Wb2zKbO843MVNhKOrAk4uYE2lQwQ5O6DYjla\n",
              "vLgw9CXlBoNYCkhLoFGHkUyP8td9FxAD9Tz8KJaslHRPxFWoZfNicEQLy63iZQ/9wZpC1C5pbV92\n",
              "fhAX+IhwHqM6B0DFGspKCeKTkjKHDjkgDtG7u8cOIAior32X4k4C0BzJ2AVPr2VJXkBfn4xwn/iI\n",
              "rjLrXTa9mWBM43ed92BLfoDqyqSYFZN2aS5l/L9kOKyyxif8HxXdZIwY/7DAJdjfqalddVfJccZ7\n",
              "31gVjWz6SocX42nsLjzW/2BFxyYTQWew7VqVgBtBj+6yIqAvfC3G5HiLUjT7aw7YPLITnhOe0dUb\n",
              "MEpqhmCx/vgg+wBNScPdOsVhxUgCTHoYSH3+A6gwSj4b0F0XDXARYq2HIyv2EItLlJNBd/F/Avg8\n",
              "hfXx3O9w51IASZ5VJQdiIpBcYeTPiw0adVT9HgJHTUgAh3PyabLHfzRbf1YL7ZozrwbrRKmDb+P+\n",
              "RAd32m+FupzWfzhFI+TLxMqxL5E/PNVT7lVt5q0gqOZvklYw2HzJ1qGoDAwvBX+nUu4j/15V03Ia\n",
              "z6IRy1qOMjfvs8a3qYvBESzy9rA+frVXNQm7u/8IMKKHo8dwvKq2fVdAuyxcTxaSQvb6f+hFedCH\n",
              "xC/HBo0gAAAAZ0GeXEUVLBD/ABFWB324mH4k7pJudTNzbQlsf/Udb2Z7+T231T1s6C11PCr6I5YA\n",
              "Ek3pIbYyfb+kXB5pHkXfxnkcjt4Y4eJ6aUgjWzp/yaZTl3XRuQyH2eUfGQ12IeBz2pCKJjb6IeEA\n",
              "AAA5AZ57dEP/ACavHOeP+9OYEt1mBrm83nnfzMeIfPV8a+7HUpRkqS+DWzMlb/CMVvzP+ASQHL5h\n",
              "ndEjAAAAOAGefWpD/wAmsREdRHqGwhJE4zpze45l9HNak9V10MecCZ8q6uSdgZx5jiJKrrir6YmM\n",
              "lwGa88GAAAACz0GaYkmoQWyZTAgp//7WjLADk124QcwfiHJAAp1jgsla99y3OwS/XrSzzEHptQDh\n",
              "mNvXi/DAh/idMaKaSrNGAPwwGIpgpwNRssPX3tukM9uemL9tVTTeZfLMWGKO4u8EfK4a96eAOPmx\n",
              "6Pa3c6SxboF9qfu+Kdo8v0u5lXNkDIP6j6Y6rmfn1nnzbmh0DDLt+9c21wFQ4KLgGN3vli36Eq9K\n",
              "desz6VwpntPIjJjsHfNmo1xs5ZDZlgQOsfuXS2afALFOTcNYWGn0OiERFYOF+9MPdenF/8KY44SS\n",
              "RaVjnEts5ygbP4UFM0X/sT9ete9wTuZfv7OIM7fEc9pcpC1UHgKtISpefzPFt5m2zAdIBvkW4hwd\n",
              "GwJrUCFWS3NpptrgnmLi9lKEAz08IiemXYV8b6DG2IGzNdLxAlUzgDWM1csrXOI9N8Av/SOHhTHo\n",
              "hGpzeN8yWNxeQ3s5iBvxgMBdbt0SR9GsX7Ww7HbVAG2mNySKRjlunaFqMYpMqH/11tnP2Jl4ZkfN\n",
              "M4KBkNU/s5AqE898rhxkAYRHCaso9CducXdFXnAXgYr+wkABgqa0Oj3JROkHzYos9QIbVuttWGpB\n",
              "CdHOiCvmYu1ojW0GNQXLCy0IMcBYwwi8xGxpe7XfQZFBbv1Xyeob6hV0n1O+Kus8xoetcAbM2d4t\n",
              "aUvRxkdo9bPPzN6rFpvDzoOCWW88q3zpZwwO1kNUt9MoMUtFk+qQv4wTEDYlBnI2GsA+o4gstLi6\n",
              "6Mwj21vGjg5sHuOeZ3RqkDlGR6s8lWaP1yMqttNOUBIxu1rM5atqfzdP4YGKDrdhrjyimfffrG4t\n",
              "yrzphmHPqYhvu2ba4hQh0p9fhiOmaM5fYsVTPN53/iCPhnfcHdifYh1eetmb0yBw5KdzjnsjVvyU\n",
              "f4vdanmmU12NQ8cpr1CV9RzHfZHK+V4ZTWvPlLpSGN2Oz79byoDYQ5PjHoqAAAAAXkGegEUVLBD/\n",
              "ABFVBA/ZFKPbFqmF1p0aTYqQ7j8y0jA/fzeqTUYUiRnsJmW+zmRhThGwBo+M8u8V84qFeWQhUphF\n",
              "OYQJGLOPZQWQmxfADKu/mbOf/Ltx0xU/RUouz5kAAAAxAZ6/dEP/ACay7ZURDjbAo8Eu/TsI/8bg\n",
              "K2SzxEARAbujH+p57+0Cemy+XzfoS0wZ8AAAADoBnqFqQ/8AEtg2jvdc357N7CXIxt08ByfdnZ7y\n",
              "7FO8hZJHKc0YGBj/GHVehaBSJTt8LH8okC3j1MHLAAACvkGapkmoQWyZTAgp//7WjLADk2qSvx4g\n",
              "BHKPnN48MzA4Z9CNgooHyNI1ujqFbddV8wP1smPodxgLJTZleB3EC9nvEFZ0NFEHlA4nR/u8s572\n",
              "v3fWc4mV/s9xeraxrROYO1NLXqs6bcQft8f/bM8nZGNoh9GVZKfFE5g8/nM/qxNCU12yRq+04cQa\n",
              "bTYi0ve9j0c5813l07evbMdet1aE7fp5WmJdNKUpNESeatb76l1N8XO+K9g9bQDsXUWqgO897kPN\n",
              "FFLftahNftCsNOlHHxJSIFKuk+lkfk76Rq4Gwt0RXsou9Y6CHVXji+zIkO63ntP9u0fXyZ2S2V5/\n",
              "RZEQBrYbQp/lShTxc+srcDEAmpLCgG8u9IZFIFrgBH7fNqg5zXwoWC/j6sgbYg9pdGf0dZpOYg5q\n",
              "afQJdPjngcVFd4J3iMtocalxE6n66dp8+gOGV+EIM41p/Q6wDco1581YJ8HZSAtxBPyYSuXZfU0v\n",
              "FrZ2e1WEXceOl94mkvCvL43yymzvKtBP/aZcn1vVSBCsCIhMHM3EFNCkRu0GiM78r1Eb05f1QOCt\n",
              "xu1xGUx5c0vkWidUZSJzzsxPSi4+JLz+Zt1fxkTZsgEyLu0MzzWf4oRbuT/ws+/vOvZ8wTDhv2HO\n",
              "t3j4HcYN5dBDM3dONLctGyeSLbywTQ5OQoofgMj0CAVf1YqI5PEtogD/lDATRNjqluAnn2TF3/kn\n",
              "oqljKwabFyKSlwdRP+4sp3wuJMlWFLX+9HbdnvG/cYvnmSJ0TpcLuFLpbhqWnh7GYwyQ/TT2Kj1m\n",
              "taJSZd5cbLC2qCzTNT8Gb2SqFOft0qXjs6oBG+G2LbYyj3lI+6KIhf1syYc+KTu5xo7bat0D6wH1\n",
              "X5/8J7ip89BrcS4+Dj3i6mLmeQtww/d/NqdBTff/C4SOJ3Kua1Y2eA/UxocjXQ8/X6FlwAAAAGtB\n",
              "nsRFFSwQ/wARSZwIV0KYod4VZGGWkWhf5QnJjSsAUnOG21UjhdDHRPD54VRoMEp+ln9LhP/WwAXB\n",
              "cOsZ0wY2GkTgDUvepX0ymJKk8EQrPLoj2Yoe9UdPgDiU6YmNMyYWGgSZJju8oYSGtQAAADABnuN0\n",
              "Q/8AJrLtkiSSD7W9MLTCc0sxIVaAbW97mhyvSLbDNEJa/IIOGOEGMEpw1YEAAABGAZ7lakP/ACav\n",
              "Cv8UrutMgM0XZVCZ+6/oVYp9N1PDhA5ZWRyNEXb4xEAA1GSwl8YkOTHF3q1QSiYh0Y9pAxB6NawL\n",
              "lLUKWQAAAk5BmupJqEFsmUwIKf/+1oywA5Nq0sDINAETZXfDBaKpwzQ8fVy3TB3NXKE9VBE9lrXh\n",
              "BkAgFNOOUl17HfAoh+IT1/dhWJVNalPvJpfpKVoktbnvEPu/TfB9DBXmGqG1ZSw/22rzPYzydyVo\n",
              "UIfdgyE0L7HjkeDttt/nUP00VsYlqahkhMM+8UGOsHr7blDryACAqT6c3n0/Ss/O2eXjnVKGB80Z\n",
              "Tfr3uPyBsLKLv9GJuINvuXVhCpcnLUG1gM2xcZ9JJE64qCLk/SgF7onFWF6NTVJ6rQcMYxPt1Ejl\n",
              "AEsDzW/fhNtBbyDUJL90vdEamufC6n5iLDwo2CoDgcFG7CF2YUWuj3VFv91IBP27LR5u6vezzioY\n",
              "t70zZ35wgiEnPhA2T786CPGHiD4RWmldHb5GQ0udbx+7taLgHTJYxj/acEEQi5QRnSYEom07s63F\n",
              "0/cJP0LPKHRiEIo+Dk7bBNLUUUdalr3up+c67umlDkdehML1hSuEKhTJDhhZC4YcnyAOKJbzYlVa\n",
              "bjFNL3aANt9De92eZKzALJuNrKLj5N2HDlG/gOobM+7Hxn8NCMlnZ+OszjzAFQVqPmzEjxsMkYMi\n",
              "7OUpSJnmE4ykkUxCdkELOxIUrO8Xgjm1l44+2Vx7iNZ1sBbOXfoFiYAqUwa1LBCaaVO0Y1J8pk3d\n",
              "g1sL9JatcKkZt/MDxnVjD4IOTyxNdDNCiWwtQw4VL1g9GV4lA+dew0BZHKl94oVx+OADPYTSUka0\n",
              "+tryMWVEa9cEdCqRjEQrJG+PNgv0jdM/4w88wQAAAHVBnwhFFSwQ/wARUqX4odkzZD/HrrsMjfYg\n",
              "xSDwcGAUG/kR5a+j2QcllLTfDwauxayRSl8qrYYxFB/OZQP3J+ds9JvedHMYlAQzzc5XkAQNTnpt\n",
              "PS847wd3y2z7fc+fB5P9yeHRp9e3FELKFXh1ahmxDDDnB+QAAABYAZ8ndEP/ACarleHr8tR1SPZ3\n",
              "RtbyuPbV2iHnq9Tf0h7NNgoD8UPax6U+qP7T8UnaRvHFYIB5ldTSK7nOmnOIES7LtovpaKZyK9Ws\n",
              "O6yqF9YqZGgXIHof4AAAAEoBnylqQ/8AJq7+R+/3E8g699vT5SwJKxhpbX1rWdvKofjBZr9fva9b\n",
              "xBdNd4pIdF66ancT+pyBQ59dgjxzqX1I8B9JrX8ZYnbi8QAAAh5Bmy5JqEFsmUwIJ//+tSqADecx\n",
              "jP3ABECgU0PuHR92+OsgrwMwmHtOxSq0XGodaci9MM4I7ugVCmrjPe5neELlwOduS5PQG9KYaUZc\n",
              "PM4V4/3XA5ON2a+mmizOTaIyX4tjksSt3sxp9Jbt7nU0hxKzFIbF/e80/LOc7TqpkLwirgIzuEe0\n",
              "XlGHqpVyTr/jmPjwlP6vDIcfU1qM1blxnW4rUujWGUID1/lN62ZpAS1PX311RaseyeTm0nJZDwZo\n",
              "euF7EEE67uvM30GzaoOIRdqwaGUdxXGdItwo+o2j49HLibQA3A0KVUPCVx5fbTgCRpDaC70ipzME\n",
              "UYMeu+sE4RQFd/I/9adlewFqn+r0xQO6C3ZGWzJs9hmBXawcn9389YPNSTSqAmKlReDmHn/Nan0r\n",
              "pjETSs2hNuZ32U4+HQsZ2qhatbtsdglpgROvWaQUOgYuUI9j3Ko4YJgAWx9oaOfvpGgEWgZfN7qP\n",
              "zwx9J1FU+MuxuF6u2ZU6XacS22uQfv6EGIFC5K1TpcLz9fEOg0+IP4sZ0SczPw2ykVZWdjp0COWI\n",
              "pgsY40ryjWtBXosPI84TwwbeGkOh+8UBd2BuDKkcOlyo/qtbjdRhSSwe5lYy1yClDQvuYJfnYab6\n",
              "z/ihx0YnnnJrPNmDZlpQMvraow6N0YTE3ZZxcOHjNtL3/pQ7J7UeQz9R0L52BoO0AcA/6wbETURV\n",
              "K6UloriIBVgWBAAAAE1Bn0xFFSwQ/wARUqX6BSGbIf5RqtjJ4usUumuwZMAnkRbu4AH4eX6+NHvC\n",
              "uZ+8/r5+m/3fMFBG7bFYZ4gY2kokwOLV0zUyoO/qCGkrMAAAAGQBn2t0Q/8AJqlOqkHBORrWFgUO\n",
              "nQHwvgmZfVwI98vsVxYedkTgVcqLdWbmCo6frg52Owid5MKC+UT56ACCwriDvcKrxlV9jciIBSYB\n",
              "V0/3Q21bqbAtoaHsMpYcQjjP45MyAIPvAAAAZAGfbWpD/wAmrwrob62ddegm7aYD0uTB8fe9MNmI\n",
              "yJBjWOt7+nNwYokJnLFrQv4dpYARpFdv0pBLFuxn7WM+LhuiDttoO0bUq9PRb9tKHnedn/sjSqAJ\n",
              "jSJJuVmvU4mADUvghs0AAAH1QZtySahBbJlMCCf//rUqgCESbckuACIckYUmvJmrrfLcwoRy1IiX\n",
              "0aVUi1gVHByaJLQLRo7Hj2k3dzvRlt3uzhpT2SNqw831eNLLpTeS3ZFGw88Qu3VwCkRpncxIhYa4\n",
              "IJA9GMwFvU5wOt7lJgEVORNqoS/muLT5Xor1S+lSk4E9yUrFidmASCW8rTLoN8leF7uFafKz1Dko\n",
              "1s6Gpbg6l620nAggmBV1rg7BsgN/pz1NWkuvmN4XSo6SnRiEeYpQUWDA4r6J7/mpVG13yu7lM34S\n",
              "fRWhPa85gubuNicBP+SGwShvaKCxZqkQXFeizKE5FlbhJnx3NQjtAtV1/HWyo4XbbedxiomSdG2g\n",
              "7rH9Jvoky+Xa6cOWiVLEyz5l9HcBbEAIXyaHSmfwb6GmJmNGNldXS4nZX4MI8FYmMpJMva0xy4Tr\n",
              "CgRrilyRsgObDLBpC6I8ZM/nLrqt2j/rjFwEzpkZuvJU/XDSZH97rGfE2DvUw5BZPx0BBJTFBmO1\n",
              "uarylDcDTNFusrZi8ICq2M6Z/1fQxDiLDaJKwLEjZ2nx+orVTjtl7+1Gbnkr5SfzNsIyHH3RAhsn\n",
              "wlhvLZHu9M2C7Dzd8Xw4gU7FYCGNTajqSXz+Z2wBWdAhJa3v+kTBK6dWTlTCVwvf9uYCFGINcsV2\n",
              "QZ7PdRNhAAAATUGfkEUVLBD/ACKa8AA4x5nPcTHtf0lRgRb+dfLAYQ3908ZTPVK/gcBSLepjcAjN\n",
              "S1q29S7id0E39/RofzSPS2/Yb2KFCRFx++SZHwf0AAAAWwGfr3RD/wBM4zPF2C4aSYAn7LI1Qlza\n",
              "KlBrbWxudbIpw8V8uua6AG2y1xHVYBHJq1PO/wlOloBXFPs9Yl8fshCCCjTY5YZ7NmwTpa9u0s57\n",
              "Ik3zA0X8JvJqCBgAAABeAZ+xakP/AEy4ykdwHX8+AIPbZUbDX9AmSHbRum66Jk6DlI/hqSDXd+BE\n",
              "emeoMJWQK7W9JW+Pm2uhPjG6EtjOMRj96MhnQhzIxl9GIcnBzVW8PLAvoNmwWGgfE1/dxwAAAdFB\n",
              "m7VJqEFsmUwIJ//+tSqAIRJ06ZgAibawn6PCb5MQUgC9C1+B7B2JN524ITsJqfO2dEwE8dDeS/ni\n",
              "Z1vfvMaAuLvP2UjSn8aUnjAC8gWwA5fkOKOUR4RPm8r8Bh/ccLkcBbBJho1Q/lUeoNqKUUh/RgOF\n",
              "PCf/RN0btFZyg88uCImX/sZK2sMtesq5uNY5BpxxszE5qVdvUwM22q35Ne/6FALt1o/CYC999+2Z\n",
              "55i3YC6bQXx2Ud9Gc3qOrt3hpP+RRGDl6wELI6GeToENC9VBgWPgGIoiNyTLl98v6MDaVPL0D/6O\n",
              "L+u2T7L78FjF2Dr4/dY+9EHNDtPe2oscS9rwFAJJjLRBdnzBCHhNVBgpa9H/VYdfssHcuAghJcKm\n",
              "vAZt6j5x3cPj/ocJe8xasulQxNMNqHKs4bLko5rtbit93l47Qv5pH/fOLaxThBrskVz1PDAp612l\n",
              "w61D7Dq67ckzicgZxh46MPgnmTSP3HkGIHyPTtln6gX3+e0o4qb6Xrlz2Q6hHQV5kuiVNuuzonSN\n",
              "RJnuhjHwtoFMsGC23neomtUGToGAq65pu+W/2xu76fwvwuyrKVttDGAms9a0EU9XvYu98RYUArtp\n",
              "K6KI7z4JEvwAAABhQZ/TRRUsEP8AENbZObDdFiQW0WsNOL4EunQrKZaY5muzhghX6uq7f/4+y0wc\n",
              "XNQfPEAA4Y/DZ/Qp7L/yEELaU4BlZ1GK1Q8C6GhDnjkjQ3QXODzXwpZ2ccFDFlxskUh+8AAAAEIB\n",
              "n/RqQ/8ATMGSQaxJjmJboeb7nRcSZrHyPNiwGBg4prEoHslqwTJ1Z0Tm/to/1Mkse/SJSoycHweS\n",
              "CyeLtooCFsEAAAFiQZv5SahBbJlMCCf//rUqgCESc84sd/632Ap7sAnuYKSseaD6+ZKtZP84ArtH\n",
              "4uQtaXqLFdCBaAdcMSvHfpsiuH4IBTGQBQIc/m0xDCxKgak8ZRYcVJ2C1fffnWw8DFyIl/zYVOig\n",
              "tgGXtkEhYYReFvDAPyfCCSgv5kbMEgfASweko6FPBmzOtapkYtDNmIW5ljxEj4SC9DIWSPPB3aEx\n",
              "8P5kgwhq9o2e97e8tBJtZZAsNvuyIkUd0v1HkeV/T2oQjDxUtJMK3QjYgPPgOI35IjxhQ0KwWmqr\n",
              "YzqlhWDI3QBwFTO4kWTdBvV+vbdpbOkYA6hb5pplW029o3oib7qw+RNsH20tKidYaW4n4q1yyLVO\n",
              "7lcJfKZPN5uEGGn3QHzL7E0G0my4l7y/Dtez7BkHTdQ5EIKBpUq/jrPBBXeqVJX2p80kXEJI3iiH\n",
              "OUTrnr2qof3AVDT707ZRjkUs/WU32eUNAAAAakGeF0UVLBD/ACJqM+8hDq1+Hfcb31KsNThTavak\n",
              "f2bQLYpUuu6ABtbZZHPbOmAEIVw4SOGMU4kQoPVUsJqBroM6O/gk2FxIyyMYctqp92ZdHqbZsEGA\n",
              "F44dBp5EQylbrzEyCP4fa9W9EUcAAABXAZ42dEP/ACWrlfQa3DV3XTkx0wMFoxGsZl6HeqZmFW0a\n",
              "oO27jhgm/bEXe7Ozdl6a+SaG85tBBAEsSfvFb42Ft+kUvw4gMyUmHvdQkqE1lOG4W8i0hG9BAAAA\n",
              "KwGeOGpD/wAlsG0VpGw60dccc5treFUnJVD/oVkQGytNSjWU6DM7gz9dF3AAAAFcQZo9SahBbJlM\n",
              "CCf//rUqgCESdNxUN03vqDZJyTWH+/rwYXApFuRADZZf3b5qazTNeSEob9MgmXcjGvL3i70JlZzi\n",
              "mKxKt/JEOFibljy8o0u79UAwnYyVBB6aDdk84bDGqK86z5yxZu8+ztLaEbzLOW/i1DgjqlD2nE14\n",
              "RYe1Dw/u9DOl4c/HwurX/H3fryKZEDtmAvWkhUv3Qa0MT0/5xqYfdraDdQCZ56tspa2rhbbDpKdi\n",
              "OkaiubYG2ZYh14M3oh+L+uAtwQhy5lTASHcR28ah6QI9AzXAh2WJfowa8OvZHpc8el2suPkVOXL6\n",
              "cBDztoxgm/8lJ5sQo9Nn+IcVgxvDN7aiqhuIvzs+CE/XCUeGBPRN8m8Yx1Wa6/P2b0GIBDkTmjcZ\n",
              "x460xyVFBG2WwDsyi1ia1SmtMl2s81Jawotx7TWtwNcqsc2thPnzDS+gE0fIP+qwOj5kTqKBAAAA\n",
              "XUGeW0UVLBD/ACJ40OzZxa5MxHOKUdGA492N/6fvAuErnZiovuMwgKIuC/4DX/pTxqyVx/+DABxV\n",
              "yD6eLXYlz1JedrD6G4YgkWoojHaCkE4MjgJ6vaDpfMsLZVAQ0AAAAEABnnp0Q/8AJauU90h+zKw8\n",
              "uo1CTmGwPiqnZ/Fykz2Nw4mmbkWzXLstO9Id5OOpuqDJeDaEYdYlnfiIuDfcE5shAAAALgGefGpD\n",
              "/wAlsG2dCvW33WYwQYHmhSlHEcuznp8nWmme8gXvoRK6702o3WZd2OMAAAEJQZphSahBbJlMCCP/\n",
              "/rUqgCEKbF8TgBLKSvjtSLwK4Is0D7lvaI2PwjsO0cUCJzUG7EgvNF2sWkpCNGezwt9J76Oqzmi0\n",
              "ANIbg6ZF6mCeELdcYLeAva6PX9YztdpBSatMF2IN+M4FwYdMrQ1DJazzy8grTYBh+gw6afWYR0td\n",
              "IsK693oR8uDb89l2uz0uGQ6qWLwAHMvbEy4dIvil+yNrnYgSZ9IxJkQwBICj8f9TwnT3RmQ+7DJt\n",
              "pxTmssaBc1Wytw9AZvKBDBoAeJYghE439Yx1IYnD9motFLMyzwnd3+ugMfrKNG5/jBeMX/uuIdk6\n",
              "ZOpo7Lxngjq/k3xcvyhP3WP2GCw84xcPHgAAAGxBnp9FFSwQ/wAiGURwF4AAJzH3fG/XJA0n9ujR\n",
              "r5pvfiJZqknOjxmVD2p+DoEq70IVrpIaQzYulstteBMCow/CDKghhPD5VjUoPA1vs6/4srWH3S/9\n",
              "nEeoqN6on0bVxRc7U7SJKzTijPL1xUwAAAA2AZ6+dEP/ACWrlfPASlHTc40Vpm1T59ZeO2plQTUl\n",
              "efEf7eue2fmbbW7eLW4zKnbGNFtreEhBAAAAQwGeoGpD/wAmsNSFAMpubUVRr473HqgnQfs40hMc\n",
              "7DdTLjzt6Kb6JPktWGPCAh5ve/ZJg9X5lIBjuHR83g4rWVu8xEAAAAB8QZqjSahBbJlMFEw///6p\n",
              "lgD67nBloAP4D5yYeYwQGFfVw/pBIkrVzRnVwmaJWNlJsyVt/rzx0gF7hMNtgzhtd1J+CU22MLvl\n",
              "ZVvv5zlZXolSjXhPx/aFotvwng6fVMXajCeaEuPeycoHWXaqz29RBbOcA7uAVkxB47IwCwAAAEEB\n",
              "nsJqQ/8AJbK0XgFgStDHdGf9zMuXG62E08jJhesNYSXJxM5ZylRILoK6qlddAgffu3O+3ZrvYMBK\n",
              "ifhEJBCcgAAAB6Ztb292AAAAbG12aGQAAAAAAAAAAAAAAAAAAAPoAABOIAABAAABAAAAAAAAAAAA\n",
              "AAAAAQAAAAAAAAAAAAAAAAAAAAEAAAAAAAAAAAAAAAAAAEAAAAAAAAAAAAAAAAAAAAAAAAAAAAAA\n",
              "AAAAAAAAAAACAAAG0HRyYWsAAABcdGtoZAAAAAMAAAAAAAAAAAAAAAEAAAAAAABOIAAAAAAAAAAA\n",
              "AAAAAAAAAAAAAQAAAAAAAAAAAAAAAAAAAAEAAAAAAAAAAAAAAAAAAEAAAAABsAAAASAAAAAAACRl\n",
              "ZHRzAAAAHGVsc3QAAAAAAAAAAQAATiAAABAAAAEAAAAABkhtZGlhAAAAIG1kaGQAAAAAAAAAAAAA\n",
              "AAAAACgAAAMgAFXEAAAAAAAtaGRscgAAAAAAAAAAdmlkZQAAAAAAAAAAAAAAAFZpZGVvSGFuZGxl\n",
              "cgAAAAXzbWluZgAAABR2bWhkAAAAAQAAAAAAAAAAAAAAJGRpbmYAAAAcZHJlZgAAAAAAAAABAAAA\n",
              "DHVybCAAAAABAAAFs3N0YmwAAACzc3RzZAAAAAAAAAABAAAAo2F2YzEAAAAAAAAAAQAAAAAAAAAA\n",
              "AAAAAAAAAAABsAEgAEgAAABIAAAAAAAAAAEAAAAAAAAAAAAAAAAAAAAAAAAAAAAAAAAAAAAAAAAA\n",
              "AAAY//8AAAAxYXZjQwFkABX/4QAYZ2QAFazZQbCWhAAAAwAEAAADACg8WLZYAQAGaOvjyyLAAAAA\n",
              "HHV1aWRraEDyXyRPxbo5pRvPAyPzAAAAAAAAABhzdHRzAAAAAAAAAAEAAABkAAAIAAAAABRzdHNz\n",
              "AAAAAAAAAAEAAAABAAAC+GN0dHMAAAAAAAAAXQAAAAQAABAAAAAAAQAAIAAAAAACAAAIAAAAAAEA\n",
              "ABgAAAAAAQAACAAAAAABAAAYAAAAAAEAAAgAAAAAAQAAIAAAAAACAAAIAAAAAAEAACAAAAAAAgAA\n",
              "CAAAAAABAAAYAAAAAAEAAAgAAAAAAQAAKAAAAAABAAAQAAAAAAEAAAAAAAAAAQAACAAAAAABAAAo\n",
              "AAAAAAEAABAAAAAAAQAAAAAAAAABAAAIAAAAAAEAACgAAAAAAQAAEAAAAAABAAAAAAAAAAEAAAgA\n",
              "AAAAAQAAKAAAAAABAAAQAAAAAAEAAAAAAAAAAQAACAAAAAABAAAoAAAAAAEAABAAAAAAAQAAAAAA\n",
              "AAABAAAIAAAAAAEAACgAAAAAAQAAEAAAAAABAAAAAAAAAAEAAAgAAAAAAQAAKAAAAAABAAAQAAAA\n",
              "AAEAAAAAAAAAAQAACAAAAAABAAAoAAAAAAEAABAAAAAAAQAAAAAAAAABAAAIAAAAAAEAACgAAAAA\n",
              "AQAAEAAAAAABAAAAAAAAAAEAAAgAAAAAAQAAKAAAAAABAAAQAAAAAAEAAAAAAAAAAQAACAAAAAAB\n",
              "AAAoAAAAAAEAABAAAAAAAQAAAAAAAAABAAAIAAAAAAEAACgAAAAAAQAAEAAAAAABAAAAAAAAAAEA\n",
              "AAgAAAAAAQAAKAAAAAABAAAQAAAAAAEAAAAAAAAAAQAACAAAAAABAAAoAAAAAAEAABAAAAAAAQAA\n",
              "AAAAAAABAAAIAAAAAAEAACgAAAAAAQAAEAAAAAABAAAAAAAAAAEAAAgAAAAAAQAAKAAAAAABAAAQ\n",
              "AAAAAAEAAAAAAAAAAQAACAAAAAABAAAgAAAAAAIAAAgAAAAAAQAAKAAAAAABAAAQAAAAAAEAAAAA\n",
              "AAAAAQAACAAAAAABAAAoAAAAAAEAABAAAAAAAQAAAAAAAAABAAAIAAAAAAEAACgAAAAAAQAAEAAA\n",
              "AAABAAAAAAAAAAEAAAgAAAAAAQAAGAAAAAABAAAIAAAAABxzdHNjAAAAAAAAAAEAAAABAAAAZAAA\n",
              "AAEAAAGkc3RzegAAAAAAAAAAAAAAZAAAFRAAAASbAAAD0AAAAysAAATpAAAAswAAAG8AAALKAAAA\n",
              "aQAAAvAAAABYAAADvwAAAH4AAABdAAADnAAAAGgAAABRAAACYQAAAEMAAANbAAAAcAAAAEQAAABB\n",
              "AAADTwAAAH8AAABIAAAAUAAAArsAAAB0AAAAYQAAAD8AAAMcAAAAgAAAAE8AAAB8AAADPgAAAH4A\n",
              "AABQAAAAMwAAAv4AAABtAAAAQQAAAGQAAALdAAAAdAAAAD8AAAA2AAAC/wAAAGIAAABIAAAASAAA\n",
              "Av4AAABrAAAASwAAADEAAAKwAAAAZwAAAD4AAABOAAAC0wAAAGsAAAA9AAAAPAAAAtMAAABiAAAA\n",
              "NQAAAD4AAALCAAAAbwAAADQAAABKAAACUgAAAHkAAABcAAAATgAAAiIAAABRAAAAaAAAAGgAAAH5\n",
              "AAAAUQAAAF8AAABiAAAB1QAAAGUAAABGAAABZgAAAG4AAABbAAAALwAAAWAAAABhAAAARAAAADIA\n",
              "AAENAAAAcAAAADoAAABHAAAAgAAAAEUAAAAUc3RjbwAAAAAAAAABAAAALAAAAGJ1ZHRhAAAAWm1l\n",
              "dGEAAAAAAAAAIWhkbHIAAAAAAAAAAG1kaXJhcHBsAAAAAAAAAAAAAAAALWlsc3QAAAAlqXRvbwAA\n",
              "AB1kYXRhAAAAAQAAAABMYXZmNTcuODMuMTAw\n",
              "\">\n",
              "  Your browser does not support the video tag.\n",
              "</video>"
            ],
            "text/plain": [
              "<IPython.core.display.HTML object>"
            ]
          },
          "metadata": {
            "tags": []
          },
          "execution_count": 184
        }
      ]
    },
    {
      "cell_type": "code",
      "metadata": {
        "id": "Y8mrkzxvHjLL"
      },
      "source": [
        ""
      ],
      "execution_count": null,
      "outputs": []
    }
  ]
}